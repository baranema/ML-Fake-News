{
 "cells": [
  {
   "cell_type": "code",
   "execution_count": 85,
   "id": "13127302",
   "metadata": {},
   "outputs": [],
   "source": [
    "import numpy as np\n",
    "from scipy import sparse\n",
    "import pandas as pd\n",
    "import seaborn as sns\n",
    "import matplotlib.pyplot as plt\n",
    "import re\n",
    "from nltk.corpus import stopwords\n",
    "from sklearn.metrics import classification_report\n",
    "from sklearn.model_selection import train_test_split \n",
    "from sklearn import metrics\n",
    "from nltk.corpus import wordnet\n",
    "from nltk.tokenize import wordpunct_tokenize\n",
    "from sklearn import svm\n",
    "from nltk.tokenize import word_tokenize\n",
    "from nltk.stem import WordNetLemmatizer\n",
    "from sklearn.neural_network import MLPClassifier\n",
    "from sklearn.linear_model import LogisticRegression\n",
    "from sklearn.neighbors import KNeighborsClassifier\n",
    "from sklearn.ensemble import GradientBoostingClassifier\n",
    "import string\n",
    "from sklearn.feature_extraction.text import TfidfVectorizer\n",
    "from sklearn import svm\n",
    "from sklearn.metrics import accuracy_score\n",
    "import nltk\n",
    "from nltk.corpus import stopwords\n",
    "from sklearn import metrics\n",
    "import itertools"
   ]
  },
  {
   "cell_type": "code",
   "execution_count": 86,
   "id": "776d5096",
   "metadata": {},
   "outputs": [
    {
     "data": {
      "text/html": [
       "<div>\n",
       "<style scoped>\n",
       "    .dataframe tbody tr th:only-of-type {\n",
       "        vertical-align: middle;\n",
       "    }\n",
       "\n",
       "    .dataframe tbody tr th {\n",
       "        vertical-align: top;\n",
       "    }\n",
       "\n",
       "    .dataframe thead th {\n",
       "        text-align: right;\n",
       "    }\n",
       "</style>\n",
       "<table border=\"1\" class=\"dataframe\">\n",
       "  <thead>\n",
       "    <tr style=\"text-align: right;\">\n",
       "      <th></th>\n",
       "      <th>id</th>\n",
       "      <th>title</th>\n",
       "      <th>author</th>\n",
       "      <th>text</th>\n",
       "      <th>label</th>\n",
       "    </tr>\n",
       "  </thead>\n",
       "  <tbody>\n",
       "    <tr>\n",
       "      <th>0</th>\n",
       "      <td>0</td>\n",
       "      <td>House Dem Aide: We Didn’t Even See Comey’s Let...</td>\n",
       "      <td>Darrell Lucus</td>\n",
       "      <td>House Dem Aide: We Didn’t Even See Comey’s Let...</td>\n",
       "      <td>1</td>\n",
       "    </tr>\n",
       "    <tr>\n",
       "      <th>1</th>\n",
       "      <td>1</td>\n",
       "      <td>FLYNN: Hillary Clinton, Big Woman on Campus - ...</td>\n",
       "      <td>Daniel J. Flynn</td>\n",
       "      <td>Ever get the feeling your life circles the rou...</td>\n",
       "      <td>0</td>\n",
       "    </tr>\n",
       "    <tr>\n",
       "      <th>2</th>\n",
       "      <td>2</td>\n",
       "      <td>Why the Truth Might Get You Fired</td>\n",
       "      <td>Consortiumnews.com</td>\n",
       "      <td>Why the Truth Might Get You Fired October 29, ...</td>\n",
       "      <td>1</td>\n",
       "    </tr>\n",
       "    <tr>\n",
       "      <th>3</th>\n",
       "      <td>3</td>\n",
       "      <td>15 Civilians Killed In Single US Airstrike Hav...</td>\n",
       "      <td>Jessica Purkiss</td>\n",
       "      <td>Videos 15 Civilians Killed In Single US Airstr...</td>\n",
       "      <td>1</td>\n",
       "    </tr>\n",
       "    <tr>\n",
       "      <th>4</th>\n",
       "      <td>4</td>\n",
       "      <td>Iranian woman jailed for fictional unpublished...</td>\n",
       "      <td>Howard Portnoy</td>\n",
       "      <td>Print \\nAn Iranian woman has been sentenced to...</td>\n",
       "      <td>1</td>\n",
       "    </tr>\n",
       "    <tr>\n",
       "      <th>...</th>\n",
       "      <td>...</td>\n",
       "      <td>...</td>\n",
       "      <td>...</td>\n",
       "      <td>...</td>\n",
       "      <td>...</td>\n",
       "    </tr>\n",
       "    <tr>\n",
       "      <th>20795</th>\n",
       "      <td>20795</td>\n",
       "      <td>Rapper T.I.: Trump a ’Poster Child For White S...</td>\n",
       "      <td>Jerome Hudson</td>\n",
       "      <td>Rapper T. I. unloaded on black celebrities who...</td>\n",
       "      <td>0</td>\n",
       "    </tr>\n",
       "    <tr>\n",
       "      <th>20796</th>\n",
       "      <td>20796</td>\n",
       "      <td>N.F.L. Playoffs: Schedule, Matchups and Odds -...</td>\n",
       "      <td>Benjamin Hoffman</td>\n",
       "      <td>When the Green Bay Packers lost to the Washing...</td>\n",
       "      <td>0</td>\n",
       "    </tr>\n",
       "    <tr>\n",
       "      <th>20797</th>\n",
       "      <td>20797</td>\n",
       "      <td>Macy’s Is Said to Receive Takeover Approach by...</td>\n",
       "      <td>Michael J. de la Merced and Rachel Abrams</td>\n",
       "      <td>The Macy’s of today grew from the union of sev...</td>\n",
       "      <td>0</td>\n",
       "    </tr>\n",
       "    <tr>\n",
       "      <th>20798</th>\n",
       "      <td>20798</td>\n",
       "      <td>NATO, Russia To Hold Parallel Exercises In Bal...</td>\n",
       "      <td>Alex Ansary</td>\n",
       "      <td>NATO, Russia To Hold Parallel Exercises In Bal...</td>\n",
       "      <td>1</td>\n",
       "    </tr>\n",
       "    <tr>\n",
       "      <th>20799</th>\n",
       "      <td>20799</td>\n",
       "      <td>What Keeps the F-35 Alive</td>\n",
       "      <td>David Swanson</td>\n",
       "      <td>David Swanson is an author, activist, journa...</td>\n",
       "      <td>1</td>\n",
       "    </tr>\n",
       "  </tbody>\n",
       "</table>\n",
       "<p>20800 rows × 5 columns</p>\n",
       "</div>"
      ],
      "text/plain": [
       "          id                                              title  \\\n",
       "0          0  House Dem Aide: We Didn’t Even See Comey’s Let...   \n",
       "1          1  FLYNN: Hillary Clinton, Big Woman on Campus - ...   \n",
       "2          2                  Why the Truth Might Get You Fired   \n",
       "3          3  15 Civilians Killed In Single US Airstrike Hav...   \n",
       "4          4  Iranian woman jailed for fictional unpublished...   \n",
       "...      ...                                                ...   \n",
       "20795  20795  Rapper T.I.: Trump a ’Poster Child For White S...   \n",
       "20796  20796  N.F.L. Playoffs: Schedule, Matchups and Odds -...   \n",
       "20797  20797  Macy’s Is Said to Receive Takeover Approach by...   \n",
       "20798  20798  NATO, Russia To Hold Parallel Exercises In Bal...   \n",
       "20799  20799                          What Keeps the F-35 Alive   \n",
       "\n",
       "                                          author  \\\n",
       "0                                  Darrell Lucus   \n",
       "1                                Daniel J. Flynn   \n",
       "2                             Consortiumnews.com   \n",
       "3                                Jessica Purkiss   \n",
       "4                                 Howard Portnoy   \n",
       "...                                          ...   \n",
       "20795                              Jerome Hudson   \n",
       "20796                           Benjamin Hoffman   \n",
       "20797  Michael J. de la Merced and Rachel Abrams   \n",
       "20798                                Alex Ansary   \n",
       "20799                              David Swanson   \n",
       "\n",
       "                                                    text  label  \n",
       "0      House Dem Aide: We Didn’t Even See Comey’s Let...      1  \n",
       "1      Ever get the feeling your life circles the rou...      0  \n",
       "2      Why the Truth Might Get You Fired October 29, ...      1  \n",
       "3      Videos 15 Civilians Killed In Single US Airstr...      1  \n",
       "4      Print \\nAn Iranian woman has been sentenced to...      1  \n",
       "...                                                  ...    ...  \n",
       "20795  Rapper T. I. unloaded on black celebrities who...      0  \n",
       "20796  When the Green Bay Packers lost to the Washing...      0  \n",
       "20797  The Macy’s of today grew from the union of sev...      0  \n",
       "20798  NATO, Russia To Hold Parallel Exercises In Bal...      1  \n",
       "20799    David Swanson is an author, activist, journa...      1  \n",
       "\n",
       "[20800 rows x 5 columns]"
      ]
     },
     "execution_count": 86,
     "metadata": {},
     "output_type": "execute_result"
    }
   ],
   "source": [
    "news_dataset = pd.read_csv('train.csv')\n",
    "news_dataset"
   ]
  },
  {
   "cell_type": "markdown",
   "id": "17bac8da",
   "metadata": {},
   "source": [
    "## Data Cleaning\n",
    "### Missing values"
   ]
  },
  {
   "cell_type": "code",
   "execution_count": 87,
   "id": "2aa5a7e4",
   "metadata": {},
   "outputs": [
    {
     "data": {
      "text/plain": [
       "id           0\n",
       "title      558\n",
       "author    1957\n",
       "text        39\n",
       "label        0\n",
       "dtype: int64"
      ]
     },
     "execution_count": 87,
     "metadata": {},
     "output_type": "execute_result"
    }
   ],
   "source": [
    "## Checking for missing values\n",
    "news_dataset.isnull().sum()"
   ]
  },
  {
   "cell_type": "markdown",
   "id": "cda838a9",
   "metadata": {},
   "source": [
    "The number of missing values of text and title are relatively low. So these instances can be removed. The number of missing values of the author column are more than that of the columns title and text. Although they are still relatively low, so they can be filled in with the most common. "
   ]
  },
  {
   "cell_type": "code",
   "execution_count": 88,
   "id": "ab2abcde",
   "metadata": {},
   "outputs": [
    {
     "data": {
      "text/plain": [
       "Pam Key                                      243\n",
       "admin                                        193\n",
       "Jerome Hudson                                166\n",
       "Charlie Spiering                             141\n",
       "John Hayward                                 140\n",
       "                                            ... \n",
       "Jeremy R. Hammond                              1\n",
       "Vic Bishop                                     1\n",
       "Douglas Martin                                 1\n",
       "Najim Rahim and Fahim Abed                     1\n",
       "Michael J. de la Merced and Rachel Abrams      1\n",
       "Name: author, Length: 4201, dtype: int64"
      ]
     },
     "execution_count": 88,
     "metadata": {},
     "output_type": "execute_result"
    }
   ],
   "source": [
    "news_dataset['author'].value_counts()"
   ]
  },
  {
   "cell_type": "code",
   "execution_count": 89,
   "id": "c224bc77",
   "metadata": {},
   "outputs": [],
   "source": [
    "news_dataset['author'] = news_dataset['author'].fillna(\"Pam Key\")"
   ]
  },
  {
   "cell_type": "code",
   "execution_count": 90,
   "id": "c66aa8e5",
   "metadata": {},
   "outputs": [
    {
     "data": {
      "text/html": [
       "<div>\n",
       "<style scoped>\n",
       "    .dataframe tbody tr th:only-of-type {\n",
       "        vertical-align: middle;\n",
       "    }\n",
       "\n",
       "    .dataframe tbody tr th {\n",
       "        vertical-align: top;\n",
       "    }\n",
       "\n",
       "    .dataframe thead th {\n",
       "        text-align: right;\n",
       "    }\n",
       "</style>\n",
       "<table border=\"1\" class=\"dataframe\">\n",
       "  <thead>\n",
       "    <tr style=\"text-align: right;\">\n",
       "      <th></th>\n",
       "      <th>id</th>\n",
       "      <th>title</th>\n",
       "      <th>author</th>\n",
       "      <th>text</th>\n",
       "      <th>label</th>\n",
       "    </tr>\n",
       "  </thead>\n",
       "  <tbody>\n",
       "  </tbody>\n",
       "</table>\n",
       "</div>"
      ],
      "text/plain": [
       "Empty DataFrame\n",
       "Columns: [id, title, author, text, label]\n",
       "Index: []"
      ]
     },
     "execution_count": 90,
     "metadata": {},
     "output_type": "execute_result"
    }
   ],
   "source": [
    "news_dataset.loc[news_dataset['author'].isna()]"
   ]
  },
  {
   "cell_type": "code",
   "execution_count": 91,
   "id": "e24620fa",
   "metadata": {},
   "outputs": [
    {
     "data": {
      "text/plain": [
       "id          0\n",
       "title     558\n",
       "author      0\n",
       "text       39\n",
       "label       0\n",
       "dtype: int64"
      ]
     },
     "execution_count": 91,
     "metadata": {},
     "output_type": "execute_result"
    }
   ],
   "source": [
    "news_dataset.isnull().sum()"
   ]
  },
  {
   "cell_type": "code",
   "execution_count": 92,
   "id": "bf33b2a6",
   "metadata": {},
   "outputs": [
    {
     "data": {
      "text/plain": [
       "id          0\n",
       "title     558\n",
       "author      0\n",
       "text       39\n",
       "label       0\n",
       "dtype: int64"
      ]
     },
     "execution_count": 92,
     "metadata": {},
     "output_type": "execute_result"
    }
   ],
   "source": [
    "news_dataset.isnull().sum()"
   ]
  },
  {
   "cell_type": "markdown",
   "id": "2854afed",
   "metadata": {},
   "source": [
    "### Detecting outliers"
   ]
  },
  {
   "cell_type": "code",
   "execution_count": 93,
   "id": "459d92fb",
   "metadata": {},
   "outputs": [
    {
     "name": "stderr",
     "output_type": "stream",
     "text": [
      "/Library/Frameworks/Python.framework/Versions/3.9/lib/python3.9/site-packages/seaborn/_decorators.py:36: FutureWarning: Pass the following variable as a keyword arg: x. From version 0.12, the only valid positional argument will be `data`, and passing other arguments without an explicit keyword will result in an error or misinterpretation.\n",
      "  warnings.warn(\n"
     ]
    },
    {
     "data": {
      "text/plain": [
       "<AxesSubplot:xlabel='label'>"
      ]
     },
     "execution_count": 93,
     "metadata": {},
     "output_type": "execute_result"
    },
    {
     "data": {
      "image/png": "[encoded data removed]",
      "text/plain": [
       "<Figure size 432x288 with 1 Axes>"
      ]
     },
     "metadata": {
      "needs_background": "light"
     },
     "output_type": "display_data"
    }
   ],
   "source": [
    "# Label are the only numerical values(main feature), so we check if it contains outliers.\n",
    "sns.boxplot(news_dataset['label'])"
   ]
  },
  {
   "cell_type": "markdown",
   "id": "b8f8d5c4",
   "metadata": {},
   "source": [
    "It does not contain any outliers."
   ]
  },
  {
   "cell_type": "markdown",
   "id": "b7b9fbeb",
   "metadata": {},
   "source": [
    "Next step is to create new feature out of the existing features."
   ]
  },
  {
   "cell_type": "code",
   "execution_count": 94,
   "id": "9bf44e86",
   "metadata": {},
   "outputs": [
    {
     "name": "stdout",
     "output_type": "stream",
     "text": [
      "639.0722174205321\n",
      "878.9965341292\n"
     ]
    }
   ],
   "source": [
    "# text word count\n",
    "news_dataset['word_count'] = news_dataset['text'].apply(lambda x: len(str(x).split()))\n",
    "print(news_dataset[news_dataset['label']==1]['word_count'].mean()) # fake articles\n",
    "print(news_dataset[news_dataset['label']==0]['word_count'].mean()) # reliable articles"
   ]
  },
  {
   "cell_type": "code",
   "execution_count": 95,
   "id": "f442fca0",
   "metadata": {},
   "outputs": [
    {
     "data": {
      "text/html": [
       "<div>\n",
       "<style scoped>\n",
       "    .dataframe tbody tr th:only-of-type {\n",
       "        vertical-align: middle;\n",
       "    }\n",
       "\n",
       "    .dataframe tbody tr th {\n",
       "        vertical-align: top;\n",
       "    }\n",
       "\n",
       "    .dataframe thead th {\n",
       "        text-align: right;\n",
       "    }\n",
       "</style>\n",
       "<table border=\"1\" class=\"dataframe\">\n",
       "  <thead>\n",
       "    <tr style=\"text-align: right;\">\n",
       "      <th></th>\n",
       "      <th>id</th>\n",
       "      <th>title</th>\n",
       "      <th>author</th>\n",
       "      <th>text</th>\n",
       "      <th>label</th>\n",
       "      <th>word_count</th>\n",
       "    </tr>\n",
       "  </thead>\n",
       "  <tbody>\n",
       "    <tr>\n",
       "      <th>0</th>\n",
       "      <td>0</td>\n",
       "      <td>House Dem Aide: We Didn’t Even See Comey’s Let...</td>\n",
       "      <td>Darrell Lucus</td>\n",
       "      <td>House Dem Aide: We Didn’t Even See Comey’s Let...</td>\n",
       "      <td>1</td>\n",
       "      <td>820</td>\n",
       "    </tr>\n",
       "    <tr>\n",
       "      <th>1</th>\n",
       "      <td>1</td>\n",
       "      <td>FLYNN: Hillary Clinton, Big Woman on Campus - ...</td>\n",
       "      <td>Daniel J. Flynn</td>\n",
       "      <td>Ever get the feeling your life circles the rou...</td>\n",
       "      <td>0</td>\n",
       "      <td>710</td>\n",
       "    </tr>\n",
       "    <tr>\n",
       "      <th>2</th>\n",
       "      <td>2</td>\n",
       "      <td>Why the Truth Might Get You Fired</td>\n",
       "      <td>Consortiumnews.com</td>\n",
       "      <td>Why the Truth Might Get You Fired October 29, ...</td>\n",
       "      <td>1</td>\n",
       "      <td>1266</td>\n",
       "    </tr>\n",
       "    <tr>\n",
       "      <th>3</th>\n",
       "      <td>3</td>\n",
       "      <td>15 Civilians Killed In Single US Airstrike Hav...</td>\n",
       "      <td>Jessica Purkiss</td>\n",
       "      <td>Videos 15 Civilians Killed In Single US Airstr...</td>\n",
       "      <td>1</td>\n",
       "      <td>557</td>\n",
       "    </tr>\n",
       "    <tr>\n",
       "      <th>4</th>\n",
       "      <td>4</td>\n",
       "      <td>Iranian woman jailed for fictional unpublished...</td>\n",
       "      <td>Howard Portnoy</td>\n",
       "      <td>Print \\nAn Iranian woman has been sentenced to...</td>\n",
       "      <td>1</td>\n",
       "      <td>154</td>\n",
       "    </tr>\n",
       "  </tbody>\n",
       "</table>\n",
       "</div>"
      ],
      "text/plain": [
       "   id                                              title              author  \\\n",
       "0   0  House Dem Aide: We Didn’t Even See Comey’s Let...       Darrell Lucus   \n",
       "1   1  FLYNN: Hillary Clinton, Big Woman on Campus - ...     Daniel J. Flynn   \n",
       "2   2                  Why the Truth Might Get You Fired  Consortiumnews.com   \n",
       "3   3  15 Civilians Killed In Single US Airstrike Hav...     Jessica Purkiss   \n",
       "4   4  Iranian woman jailed for fictional unpublished...      Howard Portnoy   \n",
       "\n",
       "                                                text  label  word_count  \n",
       "0  House Dem Aide: We Didn’t Even See Comey’s Let...      1         820  \n",
       "1  Ever get the feeling your life circles the rou...      0         710  \n",
       "2  Why the Truth Might Get You Fired October 29, ...      1        1266  \n",
       "3  Videos 15 Civilians Killed In Single US Airstr...      1         557  \n",
       "4  Print \\nAn Iranian woman has been sentenced to...      1         154  "
      ]
     },
     "execution_count": 95,
     "metadata": {},
     "output_type": "execute_result"
    }
   ],
   "source": [
    "news_dataset.head()"
   ]
  },
  {
   "cell_type": "code",
   "execution_count": 96,
   "id": "298bb4f6",
   "metadata": {},
   "outputs": [
    {
     "data": {
      "text/plain": [
       "<AxesSubplot:>"
      ]
     },
     "execution_count": 96,
     "metadata": {},
     "output_type": "execute_result"
    },
    {
     "data": {
      "image/png": "[encoded data removed]",
      "text/plain": [
       "<Figure size 432x288 with 2 Axes>"
      ]
     },
     "metadata": {
      "needs_background": "light"
     },
     "output_type": "display_data"
    }
   ],
   "source": [
    "cols = ['word_count', 'label']\n",
    "corrmat = news_dataset[cols].corr()\n",
    "sns.heatmap(corrmat, square=True, annot=True)"
   ]
  },
  {
   "cell_type": "markdown",
   "id": "28e7b364",
   "metadata": {},
   "source": [
    "A shown above the correlation between the reliabilty and the wordcount is very low. So we are trying a new feature."
   ]
  },
  {
   "cell_type": "code",
   "execution_count": 97,
   "id": "d8e38102",
   "metadata": {},
   "outputs": [
    {
     "name": "stderr",
     "output_type": "stream",
     "text": [
      "/Library/Frameworks/Python.framework/Versions/3.9/lib/python3.9/site-packages/numpy/core/fromnumeric.py:3440: RuntimeWarning: Mean of empty slice.\n",
      "  return _methods._mean(a, axis=axis, dtype=dtype,\n"
     ]
    },
    {
     "name": "stdout",
     "output_type": "stream",
     "text": [
      "5.119332276011902\n",
      "4.932543698593878\n"
     ]
    }
   ],
   "source": [
    "news_dataset[\"text\"] = news_dataset[\"text\"].fillna('')\n",
    "news_dataset['Avg_length'] = news_dataset[\"text\"].apply(lambda x: np.mean([len(w) for w in x.split()]))\n",
    "print(news_dataset[news_dataset['label'] == 1]['Avg_length'].mean())\n",
    "print(news_dataset[news_dataset['label'] == 0]['Avg_length'].mean())"
   ]
  },
  {
   "cell_type": "code",
   "execution_count": 98,
   "id": "916a02fd",
   "metadata": {},
   "outputs": [],
   "source": [
    "news_dataset[\"title\"] = news_dataset[\"title\"].fillna('')\n",
    "news_dataset['title_avg_length'] = news_dataset[\"title\"].apply(lambda x: np.mean([len(w) for w in x.split()]))"
   ]
  },
  {
   "cell_type": "code",
   "execution_count": 99,
   "id": "f72e1d85",
   "metadata": {},
   "outputs": [
    {
     "data": {
      "text/plain": [
       "<AxesSubplot:>"
      ]
     },
     "execution_count": 99,
     "metadata": {},
     "output_type": "execute_result"
    },
    {
     "data": {
      "image/png": "[encoded data removed]",
      "text/plain": [
       "<Figure size 432x288 with 2 Axes>"
      ]
     },
     "metadata": {
      "needs_background": "light"
     },
     "output_type": "display_data"
    }
   ],
   "source": [
    "cols = ['title_avg_length', 'word_count', 'Avg_length', 'label']\n",
    "corrmat = news_dataset[cols].corr()\n",
    "sns.heatmap(corrmat, square=True, annot=True)"
   ]
  },
  {
   "cell_type": "markdown",
   "id": "2f99e098",
   "metadata": {},
   "source": [
    "The average length of the text has some higher correlation than the word count feature"
   ]
  },
  {
   "cell_type": "markdown",
   "id": "f998717b",
   "metadata": {},
   "source": [
    "Now we are investigating if there is a correlation between the author and the reliability of the news."
   ]
  },
  {
   "cell_type": "code",
   "execution_count": 18,
   "id": "4bafccdd",
   "metadata": {},
   "outputs": [
    {
     "data": {
      "text/html": [
       "<div>\n",
       "<style scoped>\n",
       "    .dataframe tbody tr th:only-of-type {\n",
       "        vertical-align: middle;\n",
       "    }\n",
       "\n",
       "    .dataframe tbody tr th {\n",
       "        vertical-align: top;\n",
       "    }\n",
       "\n",
       "    .dataframe thead th {\n",
       "        text-align: right;\n",
       "    }\n",
       "</style>\n",
       "<table border=\"1\" class=\"dataframe\">\n",
       "  <thead>\n",
       "    <tr style=\"text-align: right;\">\n",
       "      <th></th>\n",
       "      <th>id</th>\n",
       "      <th>title</th>\n",
       "      <th>author</th>\n",
       "      <th>text</th>\n",
       "      <th>label</th>\n",
       "      <th>word_count</th>\n",
       "      <th>Avg_length</th>\n",
       "      <th>title_avg_length</th>\n",
       "    </tr>\n",
       "  </thead>\n",
       "  <tbody>\n",
       "    <tr>\n",
       "      <th>6</th>\n",
       "      <td>6</td>\n",
       "      <td>Life: Life Of Luxury: Elton John’s 6 Favorite ...</td>\n",
       "      <td>Pam Key</td>\n",
       "      <td>Ever wonder how Britain’s most iconic pop pian...</td>\n",
       "      <td>1</td>\n",
       "      <td>489</td>\n",
       "      <td>4.570552</td>\n",
       "      <td>5.529412</td>\n",
       "    </tr>\n",
       "    <tr>\n",
       "      <th>8</th>\n",
       "      <td>8</td>\n",
       "      <td>Excerpts From a Draft Script for Donald Trump’...</td>\n",
       "      <td>Pam Key</td>\n",
       "      <td>Donald J. Trump is scheduled to make a highly ...</td>\n",
       "      <td>0</td>\n",
       "      <td>1440</td>\n",
       "      <td>4.670833</td>\n",
       "      <td>4.526316</td>\n",
       "    </tr>\n",
       "    <tr>\n",
       "      <th>20</th>\n",
       "      <td>20</td>\n",
       "      <td>News: Hope For The GOP: A Nude Paul Ryan Has J...</td>\n",
       "      <td>Pam Key</td>\n",
       "      <td>Email \\nSince Donald Trump entered the electio...</td>\n",
       "      <td>1</td>\n",
       "      <td>377</td>\n",
       "      <td>4.899204</td>\n",
       "      <td>4.217391</td>\n",
       "    </tr>\n",
       "    <tr>\n",
       "      <th>22</th>\n",
       "      <td>22</td>\n",
       "      <td>Rob Reiner: Trump Is ’Mentally Unstable’ - Bre...</td>\n",
       "      <td>Pam Key</td>\n",
       "      <td>Sunday on MSNBC’s “AM Joy,” actor and director...</td>\n",
       "      <td>0</td>\n",
       "      <td>206</td>\n",
       "      <td>4.237864</td>\n",
       "      <td>5.625000</td>\n",
       "    </tr>\n",
       "    <tr>\n",
       "      <th>23</th>\n",
       "      <td>23</td>\n",
       "      <td>Massachusetts Cop’s Wife Busted for Pinning Fa...</td>\n",
       "      <td>Pam Key</td>\n",
       "      <td>Massachusetts Cop’s Wife Busted for Pinning Fa...</td>\n",
       "      <td>1</td>\n",
       "      <td>484</td>\n",
       "      <td>4.754132</td>\n",
       "      <td>6.153846</td>\n",
       "    </tr>\n",
       "    <tr>\n",
       "      <th>...</th>\n",
       "      <td>...</td>\n",
       "      <td>...</td>\n",
       "      <td>...</td>\n",
       "      <td>...</td>\n",
       "      <td>...</td>\n",
       "      <td>...</td>\n",
       "      <td>...</td>\n",
       "      <td>...</td>\n",
       "    </tr>\n",
       "    <tr>\n",
       "      <th>20728</th>\n",
       "      <td>20728</td>\n",
       "      <td>Trump warns of World War III if Clinton is ele...</td>\n",
       "      <td>Pam Key</td>\n",
       "      <td>Email Donald Trump warned in an interview Tues...</td>\n",
       "      <td>1</td>\n",
       "      <td>773</td>\n",
       "      <td>4.870634</td>\n",
       "      <td>4.100000</td>\n",
       "    </tr>\n",
       "    <tr>\n",
       "      <th>20745</th>\n",
       "      <td>20745</td>\n",
       "      <td>Thomas Frank Explores Whether Hillary Clinton ...</td>\n",
       "      <td>Pam Key</td>\n",
       "      <td>Thomas Frank Explores Whether Hillary Clinton ...</td>\n",
       "      <td>1</td>\n",
       "      <td>457</td>\n",
       "      <td>4.862144</td>\n",
       "      <td>6.307692</td>\n",
       "    </tr>\n",
       "    <tr>\n",
       "      <th>20757</th>\n",
       "      <td>20757</td>\n",
       "      <td>Rubio on Russia Probe: ’I Wouldn’t Use the Ter...</td>\n",
       "      <td>Pam Key</td>\n",
       "      <td>Sen. Marco Rubio says he wouldn’t use the term...</td>\n",
       "      <td>0</td>\n",
       "      <td>145</td>\n",
       "      <td>4.517241</td>\n",
       "      <td>4.538462</td>\n",
       "    </tr>\n",
       "    <tr>\n",
       "      <th>20768</th>\n",
       "      <td>20768</td>\n",
       "      <td>Osama bin Laden’s older brother rents out luxu...</td>\n",
       "      <td>Pam Key</td>\n",
       "      <td>Osama bin Laden’s older brother rents out luxu...</td>\n",
       "      <td>1</td>\n",
       "      <td>283</td>\n",
       "      <td>5.236749</td>\n",
       "      <td>5.250000</td>\n",
       "    </tr>\n",
       "    <tr>\n",
       "      <th>20786</th>\n",
       "      <td>20786</td>\n",
       "      <td>Government Forces Advancing at Damascus-Aleppo...</td>\n",
       "      <td>Pam Key</td>\n",
       "      <td>#FROMTHEFRONT #MAPS 22.11.2016 - 1,361 views 5...</td>\n",
       "      <td>1</td>\n",
       "      <td>140</td>\n",
       "      <td>5.178571</td>\n",
       "      <td>7.111111</td>\n",
       "    </tr>\n",
       "  </tbody>\n",
       "</table>\n",
       "<p>2200 rows × 8 columns</p>\n",
       "</div>"
      ],
      "text/plain": [
       "          id                                              title   author  \\\n",
       "6          6  Life: Life Of Luxury: Elton John’s 6 Favorite ...  Pam Key   \n",
       "8          8  Excerpts From a Draft Script for Donald Trump’...  Pam Key   \n",
       "20        20  News: Hope For The GOP: A Nude Paul Ryan Has J...  Pam Key   \n",
       "22        22  Rob Reiner: Trump Is ’Mentally Unstable’ - Bre...  Pam Key   \n",
       "23        23  Massachusetts Cop’s Wife Busted for Pinning Fa...  Pam Key   \n",
       "...      ...                                                ...      ...   \n",
       "20728  20728  Trump warns of World War III if Clinton is ele...  Pam Key   \n",
       "20745  20745  Thomas Frank Explores Whether Hillary Clinton ...  Pam Key   \n",
       "20757  20757  Rubio on Russia Probe: ’I Wouldn’t Use the Ter...  Pam Key   \n",
       "20768  20768  Osama bin Laden’s older brother rents out luxu...  Pam Key   \n",
       "20786  20786  Government Forces Advancing at Damascus-Aleppo...  Pam Key   \n",
       "\n",
       "                                                    text  label  word_count  \\\n",
       "6      Ever wonder how Britain’s most iconic pop pian...      1         489   \n",
       "8      Donald J. Trump is scheduled to make a highly ...      0        1440   \n",
       "20     Email \\nSince Donald Trump entered the electio...      1         377   \n",
       "22     Sunday on MSNBC’s “AM Joy,” actor and director...      0         206   \n",
       "23     Massachusetts Cop’s Wife Busted for Pinning Fa...      1         484   \n",
       "...                                                  ...    ...         ...   \n",
       "20728  Email Donald Trump warned in an interview Tues...      1         773   \n",
       "20745  Thomas Frank Explores Whether Hillary Clinton ...      1         457   \n",
       "20757  Sen. Marco Rubio says he wouldn’t use the term...      0         145   \n",
       "20768  Osama bin Laden’s older brother rents out luxu...      1         283   \n",
       "20786  #FROMTHEFRONT #MAPS 22.11.2016 - 1,361 views 5...      1         140   \n",
       "\n",
       "       Avg_length  title_avg_length  \n",
       "6        4.570552          5.529412  \n",
       "8        4.670833          4.526316  \n",
       "20       4.899204          4.217391  \n",
       "22       4.237864          5.625000  \n",
       "23       4.754132          6.153846  \n",
       "...           ...               ...  \n",
       "20728    4.870634          4.100000  \n",
       "20745    4.862144          6.307692  \n",
       "20757    4.517241          4.538462  \n",
       "20768    5.236749          5.250000  \n",
       "20786    5.178571          7.111111  \n",
       "\n",
       "[2200 rows x 8 columns]"
      ]
     },
     "execution_count": 18,
     "metadata": {},
     "output_type": "execute_result"
    }
   ],
   "source": [
    "news_dataset.loc[news_dataset['author'] == 'Pam Key']"
   ]
  },
  {
   "cell_type": "markdown",
   "id": "4377b5ee",
   "metadata": {},
   "source": [
    "As shown a above the most common author does not have always a real or a fake news."
   ]
  },
  {
   "cell_type": "markdown",
   "id": "c5ee2eeb",
   "metadata": {},
   "source": [
    "## Text Preprocessing\n",
    "### title + author + text"
   ]
  },
  {
   "cell_type": "code",
   "execution_count": 19,
   "id": "acaf9d10",
   "metadata": {},
   "outputs": [
    {
     "name": "stderr",
     "output_type": "stream",
     "text": [
      "[nltk_data] Downloading package stopwords to\n",
      "[nltk_data]     /Users/emabaranauskaite/nltk_data...\n",
      "[nltk_data]   Package stopwords is already up-to-date!\n"
     ]
    }
   ],
   "source": [
    "nltk.download('stopwords') \n",
    "stop_words = stopwords.words('english')\n",
    "stop_words.extend(['from', 'subject', 're', 'edu', 'use'])"
   ]
  },
  {
   "cell_type": "code",
   "execution_count": 20,
   "id": "1673e6da",
   "metadata": {},
   "outputs": [],
   "source": [
    "lemmatizer = WordNetLemmatizer()\n",
    "\n",
    "def preprocess(text):\n",
    "    text = text.lower()\n",
    "    text = re.sub('\\[.*?\\]', '', text)\n",
    "    text = re.sub(\"\\\\W\",\" \",text) \n",
    "    text = re.sub('https?://\\S+|www\\.\\S+', '', text)\n",
    "    text = re.sub('<.*?>+', '', text)\n",
    "    text = re.sub('[%s]' % re.escape(string.punctuation), '', text)\n",
    "    text = re.sub('\\n', '', text)\n",
    "    text = re.sub('\\w*\\d\\w*', '', text)   \n",
    "    return lemmatizer.lemmatize(text)"
   ]
  },
  {
   "cell_type": "code",
   "execution_count": 21,
   "id": "10b081e1",
   "metadata": {},
   "outputs": [],
   "source": [
    "news_dataset[\"title\"] = news_dataset[\"title\"].fillna('') \n",
    "\n",
    "news_dataset[\"article\"] = news_dataset[\"title\"] + \" \" + news_dataset[\"author\"] + \" \" + news_dataset[\"text\"]\n",
    "news_dataset[\"article\"] = news_dataset[\"article\"].apply(preprocess)"
   ]
  },
  {
   "cell_type": "code",
   "execution_count": 22,
   "id": "539ea132",
   "metadata": {},
   "outputs": [
    {
     "name": "stdout",
     "output_type": "stream",
     "text": [
      "[('said', 67487), ('mr', 64512), ('trump', 37489), ('new', 25599), ('would', 22461), ('one', 22318), ('people', 19634), ('president', 16583), ('like', 15880), ('also', 15228), ('ms', 12397), ('york', 12380), ('times', 11894), ('could', 11858), ('time', 11784), ('state', 11420), ('years', 11343), ('two', 11301), ('many', 11137), ('first', 10969), ('states', 10872), ('last', 10763), ('year', 10137), ('united', 10069), ('even', 9969), ('news', 9446), ('american', 9069), ('government', 8511), ('house', 8393), ('clinton', 8349)]\n"
     ]
    }
   ],
   "source": [
    "# Most frequent words in real articles\n",
    "real = news_dataset[news_dataset['label'] == 0]['article'].str.cat(sep = ' ')\n",
    "list_of_words = [i.lower() for i in wordpunct_tokenize(real) if i.lower() not in stop_words and i.isalpha()]\n",
    "wordfreqreal = nltk.FreqDist(list_of_words)\n",
    "mostcommonreal = wordfreqreal.most_common(30)\n",
    "print(mostcommonreal)"
   ]
  },
  {
   "cell_type": "code",
   "execution_count": 23,
   "id": "9742bbe7",
   "metadata": {},
   "outputs": [
    {
     "name": "stdout",
     "output_type": "stream",
     "text": [
      "[('trump', 20147), ('clinton', 19254), ('people', 16598), ('one', 16126), ('us', 14921), ('would', 14555), ('hillary', 12762), ('said', 11875), ('new', 10395), ('like', 10319), ('also', 9921), ('time', 9235), ('world', 9180), ('state', 8906), ('even', 8856), ('president', 8508), ('election', 8263), ('government', 8145), ('many', 7967), ('war', 7625), ('obama', 7547), ('could', 7448), ('american', 6976), ('u', 6936), ('russia', 6742), ('states', 6567), ('media', 6544), ('de', 6525), ('years', 6472), ('first', 6327)]\n"
     ]
    }
   ],
   "source": [
    "# Most frequent words in fake articles\n",
    "fake = news_dataset[news_dataset['label'] == 1]['text'].str.cat(sep = ' ')\n",
    "list_of_words = [i.lower() for i in wordpunct_tokenize(fake) if i.lower() not in stop_words and i.isalpha()]\n",
    "wordfreqfake = nltk.FreqDist(list_of_words)\n",
    "mostcommonfake = wordfreqfake.most_common(30)\n",
    "print(mostcommonfake)"
   ]
  },
  {
   "cell_type": "markdown",
   "id": "6b1a58b3",
   "metadata": {},
   "source": [
    "## Training "
   ]
  },
  {
   "cell_type": "markdown",
   "id": "fa093c84",
   "metadata": {},
   "source": [
    "Taking the features"
   ]
  },
  {
   "cell_type": "code",
   "execution_count": 24,
   "id": "671cc46b",
   "metadata": {},
   "outputs": [],
   "source": [
    "news_dataset[[\"title_avg_length\", \"Avg_length\"]] = news_dataset[[\"title_avg_length\", \"Avg_length\"]].fillna(0)\n",
    "word_count_avg_length = news_dataset[[\"title_avg_length\", \"Avg_length\"]].values\n",
    "article = news_dataset[\"article\"].values\n",
    "labels = news_dataset['label'].values"
   ]
  },
  {
   "cell_type": "markdown",
   "id": "e8a1dd26",
   "metadata": {},
   "source": [
    "#### Splitting the dataset into training set and testing set. "
   ]
  },
  {
   "cell_type": "code",
   "execution_count": 25,
   "id": "e9bc6079",
   "metadata": {},
   "outputs": [],
   "source": [
    "train_info, test_info, train_article, test_article, train_labels, test_labels = train_test_split(word_count_avg_length, article, labels, test_size=0.2)"
   ]
  },
  {
   "cell_type": "markdown",
   "id": "aee7ad0a",
   "metadata": {},
   "source": [
    "Transforming text into numeric values"
   ]
  },
  {
   "cell_type": "code",
   "execution_count": 26,
   "id": "4d445fe9",
   "metadata": {},
   "outputs": [],
   "source": [
    "vectorization = TfidfVectorizer()\n",
    "train_article = vectorization.fit_transform(train_article)\n",
    "test_article = vectorization.transform(test_article)"
   ]
  },
  {
   "cell_type": "code",
   "execution_count": 27,
   "id": "fd1f39c0",
   "metadata": {},
   "outputs": [],
   "source": [
    "train_data = sparse.hstack([train_article, train_info])\n",
    "test_data = sparse.hstack([test_article, test_info])"
   ]
  },
  {
   "cell_type": "code",
   "execution_count": 28,
   "id": "6721a27c",
   "metadata": {},
   "outputs": [],
   "source": [
    "models = {}"
   ]
  },
  {
   "cell_type": "code",
   "execution_count": 29,
   "id": "0d88b080",
   "metadata": {},
   "outputs": [],
   "source": [
    "def confusionMatrix(prediction, modelName):\n",
    "    cm = metrics.confusion_matrix(test_labels, prediction)\n",
    "\n",
    "    plt.figure(figsize=(6, 6)) \n",
    "\n",
    "    plt.imshow(cm, interpolation='nearest', cmap=plt.cm.Greens)\n",
    "    plt.title('Confusion matrix ' + modelName)\n",
    "    plt.colorbar()\n",
    "\n",
    "    plt.xticks(np.arange(len(['Fake', 'Real'])), ['Fake', 'Real'], rotation=45)\n",
    "    plt.yticks(np.arange(len(['Fake', 'Real'])), ['Fake', 'Real'])\n",
    "\n",
    "    thresh = cm.max() / 2.\n",
    "    for i, j in itertools.product(range(cm.shape[0]), range(cm.shape[1])):\n",
    "        plt.text(j, i, cm[i, j],\n",
    "                 horizontalalignment=\"center\",\n",
    "                 color=\"white\" if cm[i, j] > thresh else \"black\")\n",
    "\n",
    "    plt.tight_layout()\n",
    "    plt.ylabel('True label')\n",
    "    plt.xlabel('Predicted label')\n",
    "    plt.show()"
   ]
  },
  {
   "cell_type": "markdown",
   "id": "63fabd56",
   "metadata": {},
   "source": [
    "### 1. Logistic Regression"
   ]
  },
  {
   "cell_type": "code",
   "execution_count": 30,
   "id": "d779b66a",
   "metadata": {},
   "outputs": [
    {
     "data": {
      "text/plain": [
       "LogisticRegression(max_iter=16640)"
      ]
     },
     "execution_count": 30,
     "metadata": {},
     "output_type": "execute_result"
    }
   ],
   "source": [
    "LR = LogisticRegression(solver='lbfgs', max_iter=train_data.shape[0])\n",
    "LR.fit(train_data, train_labels)"
   ]
  },
  {
   "cell_type": "code",
   "execution_count": 31,
   "id": "bc8be159",
   "metadata": {},
   "outputs": [],
   "source": [
    "predictionLr = LR.predict(test_data)"
   ]
  },
  {
   "cell_type": "code",
   "execution_count": 32,
   "id": "95937b1e",
   "metadata": {},
   "outputs": [
    {
     "data": {
      "text/plain": [
       "0.9620192307692308"
      ]
     },
     "execution_count": 32,
     "metadata": {},
     "output_type": "execute_result"
    }
   ],
   "source": [
    "LR.score(test_data, test_labels)"
   ]
  },
  {
   "cell_type": "code",
   "execution_count": 33,
   "id": "30ad8d8e",
   "metadata": {},
   "outputs": [],
   "source": [
    "models[LR] = LR.score(test_data, test_labels)"
   ]
  },
  {
   "cell_type": "code",
   "execution_count": 34,
   "id": "4f30a6b4",
   "metadata": {},
   "outputs": [
    {
     "name": "stdout",
     "output_type": "stream",
     "text": [
      "              precision    recall  f1-score   support\n",
      "\n",
      "           0       0.97      0.96      0.96      2072\n",
      "           1       0.96      0.97      0.96      2088\n",
      "\n",
      "    accuracy                           0.96      4160\n",
      "   macro avg       0.96      0.96      0.96      4160\n",
      "weighted avg       0.96      0.96      0.96      4160\n",
      "\n"
     ]
    }
   ],
   "source": [
    "print(classification_report(test_labels, predictionLr))"
   ]
  },
  {
   "cell_type": "code",
   "execution_count": 35,
   "id": "155690ac",
   "metadata": {},
   "outputs": [
    {
     "data": {
      "image/png": "[encoded data removed]",
      "text/plain": [
       "<Figure size 432x432 with 2 Axes>"
      ]
     },
     "metadata": {
      "needs_background": "light"
     },
     "output_type": "display_data"
    }
   ],
   "source": [
    "confusionMatrix(predictionLr, \"- Linear Regression\")"
   ]
  },
  {
   "cell_type": "markdown",
   "id": "49c9870e",
   "metadata": {},
   "source": [
    "### 2. Decision Tree"
   ]
  },
  {
   "cell_type": "code",
   "execution_count": 36,
   "id": "c972e50f",
   "metadata": {},
   "outputs": [],
   "source": [
    "from sklearn.tree import DecisionTreeClassifier"
   ]
  },
  {
   "cell_type": "code",
   "execution_count": 37,
   "id": "2c90c900",
   "metadata": {},
   "outputs": [
    {
     "data": {
      "text/plain": [
       "DecisionTreeClassifier()"
      ]
     },
     "execution_count": 37,
     "metadata": {},
     "output_type": "execute_result"
    }
   ],
   "source": [
    "DT = DecisionTreeClassifier()\n",
    "DT.fit(train_data, train_labels)"
   ]
  },
  {
   "cell_type": "code",
   "execution_count": 38,
   "id": "f2469fb4",
   "metadata": {},
   "outputs": [],
   "source": [
    "predictionDT = DT.predict(test_data)"
   ]
  },
  {
   "cell_type": "code",
   "execution_count": 39,
   "id": "d154e45a",
   "metadata": {},
   "outputs": [
    {
     "data": {
      "text/plain": [
       "0.9644230769230769"
      ]
     },
     "execution_count": 39,
     "metadata": {},
     "output_type": "execute_result"
    }
   ],
   "source": [
    "DT.score(test_data, test_labels)"
   ]
  },
  {
   "cell_type": "code",
   "execution_count": 40,
   "id": "b3f0535d",
   "metadata": {},
   "outputs": [],
   "source": [
    "models[DT] = DT.score(test_data, test_labels)"
   ]
  },
  {
   "cell_type": "code",
   "execution_count": 41,
   "id": "872e1960",
   "metadata": {},
   "outputs": [
    {
     "name": "stdout",
     "output_type": "stream",
     "text": [
      "              precision    recall  f1-score   support\n",
      "\n",
      "           0       0.97      0.96      0.96      2072\n",
      "           1       0.96      0.97      0.96      2088\n",
      "\n",
      "    accuracy                           0.96      4160\n",
      "   macro avg       0.96      0.96      0.96      4160\n",
      "weighted avg       0.96      0.96      0.96      4160\n",
      "\n"
     ]
    }
   ],
   "source": [
    "print(classification_report(test_labels, predictionDT))"
   ]
  },
  {
   "cell_type": "code",
   "execution_count": 42,
   "id": "146e1c9d",
   "metadata": {},
   "outputs": [
    {
     "data": {
      "image/png": "[encoded data removed]",
      "text/plain": [
       "<Figure size 432x432 with 2 Axes>"
      ]
     },
     "metadata": {
      "needs_background": "light"
     },
     "output_type": "display_data"
    }
   ],
   "source": [
    "confusionMatrix(predictionDT, \"- Decision Tree\")"
   ]
  },
  {
   "cell_type": "markdown",
   "id": "ad12be6b",
   "metadata": {},
   "source": [
    "### 3. K-Nearest Neighbors Classifier"
   ]
  },
  {
   "cell_type": "code",
   "execution_count": 43,
   "id": "04dc6f11",
   "metadata": {},
   "outputs": [
    {
     "data": {
      "text/plain": [
       "KNeighborsClassifier(n_neighbors=3)"
      ]
     },
     "execution_count": 43,
     "metadata": {},
     "output_type": "execute_result"
    }
   ],
   "source": [
    "KN = KNeighborsClassifier(n_neighbors=3)\n",
    "KN.fit(train_data, train_labels)"
   ]
  },
  {
   "cell_type": "code",
   "execution_count": 44,
   "id": "83adb185",
   "metadata": {},
   "outputs": [],
   "source": [
    "predictionKN = KN.predict(test_data)"
   ]
  },
  {
   "cell_type": "code",
   "execution_count": 45,
   "id": "d09dfbe8",
   "metadata": {},
   "outputs": [
    {
     "data": {
      "text/plain": [
       "0.801923076923077"
      ]
     },
     "execution_count": 45,
     "metadata": {},
     "output_type": "execute_result"
    }
   ],
   "source": [
    "KN.score(test_data, test_labels)"
   ]
  },
  {
   "cell_type": "code",
   "execution_count": 46,
   "id": "d3310146",
   "metadata": {},
   "outputs": [
    {
     "data": {
      "image/png": "[encoded data removed]",
      "text/plain": [
       "<Figure size 432x432 with 2 Axes>"
      ]
     },
     "metadata": {
      "needs_background": "light"
     },
     "output_type": "display_data"
    }
   ],
   "source": [
    "confusionMatrix(predictionKN, \"- KNN\")"
   ]
  },
  {
   "cell_type": "markdown",
   "id": "27369e24",
   "metadata": {},
   "source": [
    "### 4. Gradient Boosting Classifier"
   ]
  },
  {
   "cell_type": "code",
   "execution_count": 47,
   "id": "a2f47210",
   "metadata": {},
   "outputs": [
    {
     "data": {
      "text/plain": [
       "GradientBoostingClassifier(random_state=0)"
      ]
     },
     "execution_count": 47,
     "metadata": {},
     "output_type": "execute_result"
    }
   ],
   "source": [
    "GBC = GradientBoostingClassifier(random_state=0)\n",
    "GBC.fit(train_data, train_labels)"
   ]
  },
  {
   "cell_type": "code",
   "execution_count": 48,
   "id": "df501886",
   "metadata": {},
   "outputs": [],
   "source": [
    "predictionGBC = GBC.predict(test_data)"
   ]
  },
  {
   "cell_type": "code",
   "execution_count": 49,
   "id": "425fde6a",
   "metadata": {},
   "outputs": [
    {
     "data": {
      "text/plain": [
       "0.9735576923076923"
      ]
     },
     "execution_count": 49,
     "metadata": {},
     "output_type": "execute_result"
    }
   ],
   "source": [
    "GBC.score(test_data, test_labels)"
   ]
  },
  {
   "cell_type": "code",
   "execution_count": 50,
   "id": "1f69c1cf",
   "metadata": {},
   "outputs": [],
   "source": [
    "models[GBC] = GBC.score(test_data, test_labels)"
   ]
  },
  {
   "cell_type": "code",
   "execution_count": 51,
   "id": "e0574cc1",
   "metadata": {},
   "outputs": [
    {
     "name": "stdout",
     "output_type": "stream",
     "text": [
      "              precision    recall  f1-score   support\n",
      "\n",
      "           0       0.98      0.97      0.97      2072\n",
      "           1       0.97      0.98      0.97      2088\n",
      "\n",
      "    accuracy                           0.97      4160\n",
      "   macro avg       0.97      0.97      0.97      4160\n",
      "weighted avg       0.97      0.97      0.97      4160\n",
      "\n"
     ]
    }
   ],
   "source": [
    "print(classification_report(test_labels, predictionGBC))"
   ]
  },
  {
   "cell_type": "code",
   "execution_count": 52,
   "id": "c5010ae2",
   "metadata": {},
   "outputs": [
    {
     "data": {
      "image/png": "[encoded data removed]",
      "text/plain": [
       "<Figure size 432x432 with 2 Axes>"
      ]
     },
     "metadata": {
      "needs_background": "light"
     },
     "output_type": "display_data"
    }
   ],
   "source": [
    "confusionMatrix(predictionGBC, \"- Gradient Boosting\")"
   ]
  },
  {
   "cell_type": "markdown",
   "id": "1c724e93",
   "metadata": {},
   "source": [
    "### 5. SVM (Support Vector Machine)"
   ]
  },
  {
   "cell_type": "code",
   "execution_count": 53,
   "id": "98f17cae",
   "metadata": {},
   "outputs": [
    {
     "data": {
      "text/plain": [
       "SVC()"
      ]
     },
     "execution_count": 53,
     "metadata": {},
     "output_type": "execute_result"
    }
   ],
   "source": [
    "SVM = svm.SVC()\n",
    "SVM.fit(train_data, train_labels)"
   ]
  },
  {
   "cell_type": "code",
   "execution_count": 54,
   "id": "720b854d",
   "metadata": {},
   "outputs": [],
   "source": [
    "predictionSVM = SVM.predict(test_data)"
   ]
  },
  {
   "cell_type": "code",
   "execution_count": 55,
   "id": "e8ce993f",
   "metadata": {},
   "outputs": [
    {
     "data": {
      "text/plain": [
       "0.9197115384615384"
      ]
     },
     "execution_count": 55,
     "metadata": {},
     "output_type": "execute_result"
    }
   ],
   "source": [
    "SVM.score(test_data, test_labels)"
   ]
  },
  {
   "cell_type": "code",
   "execution_count": 56,
   "id": "988b72c2",
   "metadata": {},
   "outputs": [],
   "source": [
    "models[SVM] = SVM.score(test_data, test_labels)"
   ]
  },
  {
   "cell_type": "code",
   "execution_count": 57,
   "id": "f9c8fa52",
   "metadata": {},
   "outputs": [
    {
     "name": "stdout",
     "output_type": "stream",
     "text": [
      "              precision    recall  f1-score   support\n",
      "\n",
      "           0       0.94      0.90      0.92      2072\n",
      "           1       0.90      0.94      0.92      2088\n",
      "\n",
      "    accuracy                           0.92      4160\n",
      "   macro avg       0.92      0.92      0.92      4160\n",
      "weighted avg       0.92      0.92      0.92      4160\n",
      "\n"
     ]
    }
   ],
   "source": [
    "print(classification_report(test_labels, predictionSVM))"
   ]
  },
  {
   "cell_type": "code",
   "execution_count": 58,
   "id": "58c2fa72",
   "metadata": {},
   "outputs": [
    {
     "data": {
      "image/png": "[encoded data removed]",
      "text/plain": [
       "<Figure size 432x432 with 2 Axes>"
      ]
     },
     "metadata": {
      "needs_background": "light"
     },
     "output_type": "display_data"
    }
   ],
   "source": [
    "confusionMatrix(predictionSVM, \"- SVM\")"
   ]
  },
  {
   "cell_type": "markdown",
   "id": "8f879991",
   "metadata": {},
   "source": [
    "## Choosing Best Model"
   ]
  },
  {
   "cell_type": "markdown",
   "id": "16210df1",
   "metadata": {},
   "source": [
    "Reading the test.csv"
   ]
  },
  {
   "cell_type": "code",
   "execution_count": 59,
   "id": "268738fc",
   "metadata": {},
   "outputs": [],
   "source": [
    "testdata = pd.read_csv('test.csv')"
   ]
  },
  {
   "cell_type": "code",
   "execution_count": 60,
   "id": "5894bfdd",
   "metadata": {},
   "outputs": [
    {
     "data": {
      "text/plain": [
       "Pam Key                                                     65\n",
       "admin                                                       54\n",
       "Jerome Hudson                                               53\n",
       "Charlie Spiering                                            38\n",
       "Daniel Nussbaum                                             34\n",
       "                                                            ..\n",
       "Harris                                                       1\n",
       "Ted Loos                                                     1\n",
       "Julie Hirschfeld Davis, Michael D. Shear and Peter Baker     1\n",
       "Michael D. Shear and Peter Baker                             1\n",
       "Teddy Wayne                                                  1\n",
       "Name: author, Length: 1732, dtype: int64"
      ]
     },
     "execution_count": 60,
     "metadata": {},
     "output_type": "execute_result"
    }
   ],
   "source": [
    "testdata['author'].value_counts()"
   ]
  },
  {
   "cell_type": "code",
   "execution_count": 61,
   "id": "2405438b",
   "metadata": {},
   "outputs": [],
   "source": [
    "testdata['author'] = testdata['author'].fillna(\"Pam Key\")"
   ]
  },
  {
   "cell_type": "code",
   "execution_count": 65,
   "id": "54d1a599",
   "metadata": {},
   "outputs": [],
   "source": [
    "best_model = max(models, key=models.get)"
   ]
  },
  {
   "cell_type": "code",
   "execution_count": 67,
   "id": "413c9a6a",
   "metadata": {},
   "outputs": [],
   "source": [
    "testdata = pd.read_csv('test.csv')\n",
    " \n",
    "testdata = testdata.fillna('') \n",
    "\n",
    "testdata[\"title\"] = testdata[\"title\"].fillna('')\n",
    "testdata[\"text\"] = testdata[\"text\"].fillna('')"
   ]
  },
  {
   "cell_type": "code",
   "execution_count": 78,
   "id": "78c99027",
   "metadata": {},
   "outputs": [],
   "source": [
    "testdata['title_avg_length'] = testdata[\"title\"].apply(lambda x: np.mean([len(w) for w in x.split()]))\n",
    "testdata['Avg_length'] = testdata[\"text\"].apply(lambda x: np.mean([len(w) for w in x.split()]))\n",
    "testdata[[\"title_avg_length\", \"Avg_length\"]] = testdata[[\"title_avg_length\", \"Avg_length\"]].fillna(0)\n",
    "\n",
    "wordCount_avgLength = testdata[[\"title_avg_length\", \"Avg_length\"]].values"
   ]
  },
  {
   "cell_type": "code",
   "execution_count": 79,
   "id": "f9b60a7a",
   "metadata": {},
   "outputs": [],
   "source": [
    "testdata[\"article\"] = testdata[\"title\"] + \" \" + testdata[\"author\"] + \" \" + testdata[\"text\"]\n",
    "testdata['article'] = testdata['article'].apply(preprocess) \n",
    "testdatavalues = testdata['article'].values  "
   ]
  },
  {
   "cell_type": "code",
   "execution_count": 80,
   "id": "78e643b7",
   "metadata": {},
   "outputs": [],
   "source": [
    "testdatavalues = vectorization.transform(testdatavalues)"
   ]
  },
  {
   "cell_type": "code",
   "execution_count": 81,
   "id": "8b4bde86",
   "metadata": {},
   "outputs": [],
   "source": [
    "newcontent = sparse.hstack([testdatavalues, wordCount_avgLength])"
   ]
  },
  {
   "cell_type": "code",
   "execution_count": 82,
   "id": "f2fe36fe",
   "metadata": {},
   "outputs": [],
   "source": [
    "testdata['label'] = best_model.predict(newcontent)"
   ]
  },
  {
   "cell_type": "code",
   "execution_count": 83,
   "id": "c46b917b",
   "metadata": {},
   "outputs": [
    {
     "data": {
      "text/html": [
       "<div>\n",
       "<style scoped>\n",
       "    .dataframe tbody tr th:only-of-type {\n",
       "        vertical-align: middle;\n",
       "    }\n",
       "\n",
       "    .dataframe tbody tr th {\n",
       "        vertical-align: top;\n",
       "    }\n",
       "\n",
       "    .dataframe thead th {\n",
       "        text-align: right;\n",
       "    }\n",
       "</style>\n",
       "<table border=\"1\" class=\"dataframe\">\n",
       "  <thead>\n",
       "    <tr style=\"text-align: right;\">\n",
       "      <th></th>\n",
       "      <th>id</th>\n",
       "      <th>label</th>\n",
       "    </tr>\n",
       "  </thead>\n",
       "  <tbody>\n",
       "    <tr>\n",
       "      <th>0</th>\n",
       "      <td>20800</td>\n",
       "      <td>0</td>\n",
       "    </tr>\n",
       "    <tr>\n",
       "      <th>1</th>\n",
       "      <td>20801</td>\n",
       "      <td>1</td>\n",
       "    </tr>\n",
       "    <tr>\n",
       "      <th>2</th>\n",
       "      <td>20802</td>\n",
       "      <td>1</td>\n",
       "    </tr>\n",
       "    <tr>\n",
       "      <th>3</th>\n",
       "      <td>20803</td>\n",
       "      <td>0</td>\n",
       "    </tr>\n",
       "    <tr>\n",
       "      <th>4</th>\n",
       "      <td>20804</td>\n",
       "      <td>1</td>\n",
       "    </tr>\n",
       "    <tr>\n",
       "      <th>...</th>\n",
       "      <td>...</td>\n",
       "      <td>...</td>\n",
       "    </tr>\n",
       "    <tr>\n",
       "      <th>5195</th>\n",
       "      <td>25995</td>\n",
       "      <td>0</td>\n",
       "    </tr>\n",
       "    <tr>\n",
       "      <th>5196</th>\n",
       "      <td>25996</td>\n",
       "      <td>0</td>\n",
       "    </tr>\n",
       "    <tr>\n",
       "      <th>5197</th>\n",
       "      <td>25997</td>\n",
       "      <td>0</td>\n",
       "    </tr>\n",
       "    <tr>\n",
       "      <th>5198</th>\n",
       "      <td>25998</td>\n",
       "      <td>1</td>\n",
       "    </tr>\n",
       "    <tr>\n",
       "      <th>5199</th>\n",
       "      <td>25999</td>\n",
       "      <td>0</td>\n",
       "    </tr>\n",
       "  </tbody>\n",
       "</table>\n",
       "<p>5200 rows × 2 columns</p>\n",
       "</div>"
      ],
      "text/plain": [
       "         id  label\n",
       "0     20800      0\n",
       "1     20801      1\n",
       "2     20802      1\n",
       "3     20803      0\n",
       "4     20804      1\n",
       "...     ...    ...\n",
       "5195  25995      0\n",
       "5196  25996      0\n",
       "5197  25997      0\n",
       "5198  25998      1\n",
       "5199  25999      0\n",
       "\n",
       "[5200 rows x 2 columns]"
      ]
     },
     "metadata": {},
     "output_type": "display_data"
    }
   ],
   "source": [
    "newdf = pd.DataFrame()\n",
    "newdf[\"id\"] = testdata[\"id\"]\n",
    "newdf[\"label\"] = testdata[\"label\"]  \n",
    "display(newdf)\n",
    "\n",
    "newdf.to_csv('submit.csv', index=False)"
   ]
  },
  {
   "cell_type": "code",
   "execution_count": null,
   "id": "90365157",
   "metadata": {},
   "outputs": [],
   "source": []
  }
 ],
 "metadata": {
  "kernelspec": {
   "display_name": "Python 3 (ipykernel)",
   "language": "python",
   "name": "python3"
  },
  "language_info": {
   "codemirror_mode": {
    "name": "ipython",
    "version": 3
   },
   "file_extension": ".py",
   "mimetype": "text/x-python",
   "name": "python",
   "nbconvert_exporter": "python",
   "pygments_lexer": "ipython3",
   "version": "3.9.7"
  }
 },
 "nbformat": 4,
 "nbformat_minor": 5
}
