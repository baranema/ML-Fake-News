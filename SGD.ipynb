{
 "cells": [
  {
   "cell_type": "code",
   "execution_count": 1,
   "id": "13127302",
   "metadata": {},
   "outputs": [],
   "source": [
    "import numpy as np\n",
    "from scipy import sparse\n",
    "import pandas as pd\n",
    "import seaborn as sns\n",
    "import matplotlib.pyplot as plt\n",
    "from mlxtend.evaluate import bias_variance_decomp\n",
    "import re\n",
    "from nltk.corpus import stopwords\n",
    "from sklearn.metrics import classification_report\n",
    "from sklearn.model_selection import train_test_split \n",
    "from sklearn import metrics\n",
    "from nltk.corpus import wordnet\n",
    "from nltk.tokenize import wordpunct_tokenize\n",
    "from sklearn import svm\n",
    "from nltk.tokenize import word_tokenize\n",
    "from nltk.stem import WordNetLemmatizer\n",
    "from sklearn.linear_model import SGDClassifier\n",
    "from sklearn.neural_network import MLPClassifier\n",
    "from sklearn.linear_model import LogisticRegression\n",
    "from sklearn.neighbors import KNeighborsClassifier\n",
    "import string\n",
    "from sklearn.feature_extraction.text import TfidfVectorizer\n",
    "from sklearn.metrics import accuracy_score\n",
    "import nltk\n",
    "from nltk.corpus import stopwords\n",
    "from sklearn import metrics\n",
    "import itertools"
   ]
  },
  {
   "cell_type": "code",
   "execution_count": 2,
   "id": "5bc6a7d6",
   "metadata": {},
   "outputs": [],
   "source": [
    "news_dataset = pd.read_csv(\"train.csv\")"
   ]
  },
  {
   "cell_type": "markdown",
   "id": "17bac8da",
   "metadata": {},
   "source": [
    "## Choosing Features"
   ]
  },
  {
   "cell_type": "markdown",
   "id": "b0cf8182",
   "metadata": {},
   "source": [
    "We will in missing author values with the most frequent author in the dataset"
   ]
  },
  {
   "cell_type": "code",
   "execution_count": 3,
   "id": "c224bc77",
   "metadata": {},
   "outputs": [],
   "source": [
    "news_dataset['author'] = news_dataset['author'].fillna(\"Pam Key\")"
   ]
  },
  {
   "cell_type": "markdown",
   "id": "b7b9fbeb",
   "metadata": {},
   "source": [
    "#### Next step is to create new feature out of the existing features."
   ]
  },
  {
   "cell_type": "markdown",
   "id": "78ef09fb",
   "metadata": {},
   "source": [
    "### Feature 1: word count"
   ]
  },
  {
   "cell_type": "code",
   "execution_count": 4,
   "id": "9bf44e86",
   "metadata": {},
   "outputs": [],
   "source": [
    "news_dataset['word_count'] = news_dataset['text'].apply(lambda x: len(str(x).split())) "
   ]
  },
  {
   "cell_type": "markdown",
   "id": "28e7b364",
   "metadata": {},
   "source": [
    "### Feature 2: average word length in <u>text</u>"
   ]
  },
  {
   "cell_type": "code",
   "execution_count": 5,
   "id": "d8e38102",
   "metadata": {},
   "outputs": [
    {
     "name": "stderr",
     "output_type": "stream",
     "text": [
      "/Library/Frameworks/Python.framework/Versions/3.9/lib/python3.9/site-packages/numpy/core/fromnumeric.py:3440: RuntimeWarning: Mean of empty slice.\n",
      "  return _methods._mean(a, axis=axis, dtype=dtype,\n"
     ]
    }
   ],
   "source": [
    "news_dataset[\"text\"] = news_dataset[\"text\"].fillna('')\n",
    "news_dataset['Avg_length'] = news_dataset[\"text\"].apply(lambda x: np.mean([len(w) for w in x.split()]))"
   ]
  },
  {
   "cell_type": "markdown",
   "id": "85f3ad22",
   "metadata": {},
   "source": [
    "### Feature 3: average word length in <u>title</u>"
   ]
  },
  {
   "cell_type": "code",
   "execution_count": 6,
   "id": "916a02fd",
   "metadata": {},
   "outputs": [],
   "source": [
    "news_dataset[\"title\"] = news_dataset[\"title\"].fillna('')\n",
    "news_dataset['title_avg_length'] = news_dataset[\"title\"].apply(lambda x: np.mean([len(w) for w in x.split()]))"
   ]
  },
  {
   "cell_type": "markdown",
   "id": "b914e71f",
   "metadata": {},
   "source": [
    "### Checking out the correlation between features"
   ]
  },
  {
   "cell_type": "code",
   "execution_count": 7,
   "id": "f72e1d85",
   "metadata": {},
   "outputs": [
    {
     "data": {
      "text/plain": [
       "<AxesSubplot:>"
      ]
     },
     "execution_count": 7,
     "metadata": {},
     "output_type": "execute_result"
    },
    {
     "data": {
      "image/png": "[encoded data removed]",
      "text/plain": [
       "<Figure size 432x288 with 2 Axes>"
      ]
     },
     "metadata": {
      "needs_background": "light"
     },
     "output_type": "display_data"
    }
   ],
   "source": [
    "cols = ['title_avg_length', 'word_count', 'Avg_length', 'label']\n",
    "corrmat = news_dataset[cols].corr()\n",
    "sns.heatmap(corrmat, square=True, annot=True)"
   ]
  },
  {
   "cell_type": "markdown",
   "id": "c5870f35",
   "metadata": {},
   "source": [
    "### We also take author as a feature because most frequent authors have a big contrast with fake and real news"
   ]
  },
  {
   "cell_type": "code",
   "execution_count": 8,
   "id": "4bafccdd",
   "metadata": {},
   "outputs": [
    {
     "data": {
      "text/html": [
       "<div>\n",
       "<style scoped>\n",
       "    .dataframe tbody tr th:only-of-type {\n",
       "        vertical-align: middle;\n",
       "    }\n",
       "\n",
       "    .dataframe tbody tr th {\n",
       "        vertical-align: top;\n",
       "    }\n",
       "\n",
       "    .dataframe thead th {\n",
       "        text-align: right;\n",
       "    }\n",
       "</style>\n",
       "<table border=\"1\" class=\"dataframe\">\n",
       "  <thead>\n",
       "    <tr style=\"text-align: right;\">\n",
       "      <th></th>\n",
       "      <th>author</th>\n",
       "      <th>fake_articles</th>\n",
       "      <th>real_articles</th>\n",
       "    </tr>\n",
       "  </thead>\n",
       "  <tbody>\n",
       "    <tr>\n",
       "      <th>0</th>\n",
       "      <td>Pam Key</td>\n",
       "      <td>1932</td>\n",
       "      <td>268</td>\n",
       "    </tr>\n",
       "    <tr>\n",
       "      <th>1</th>\n",
       "      <td>admin</td>\n",
       "      <td>193</td>\n",
       "      <td>0</td>\n",
       "    </tr>\n",
       "    <tr>\n",
       "      <th>2</th>\n",
       "      <td>Jerome Hudson</td>\n",
       "      <td>0</td>\n",
       "      <td>166</td>\n",
       "    </tr>\n",
       "    <tr>\n",
       "      <th>3</th>\n",
       "      <td>Charlie Spiering</td>\n",
       "      <td>0</td>\n",
       "      <td>141</td>\n",
       "    </tr>\n",
       "    <tr>\n",
       "      <th>4</th>\n",
       "      <td>John Hayward</td>\n",
       "      <td>0</td>\n",
       "      <td>140</td>\n",
       "    </tr>\n",
       "    <tr>\n",
       "      <th>5</th>\n",
       "      <td>Katherine Rodriguez</td>\n",
       "      <td>0</td>\n",
       "      <td>124</td>\n",
       "    </tr>\n",
       "    <tr>\n",
       "      <th>6</th>\n",
       "      <td>Warner Todd Huston</td>\n",
       "      <td>0</td>\n",
       "      <td>122</td>\n",
       "    </tr>\n",
       "    <tr>\n",
       "      <th>7</th>\n",
       "      <td>Ian Hanchett</td>\n",
       "      <td>0</td>\n",
       "      <td>119</td>\n",
       "    </tr>\n",
       "    <tr>\n",
       "      <th>8</th>\n",
       "      <td>Breitbart News</td>\n",
       "      <td>0</td>\n",
       "      <td>118</td>\n",
       "    </tr>\n",
       "    <tr>\n",
       "      <th>9</th>\n",
       "      <td>Daniel Nussbaum</td>\n",
       "      <td>0</td>\n",
       "      <td>112</td>\n",
       "    </tr>\n",
       "  </tbody>\n",
       "</table>\n",
       "</div>"
      ],
      "text/plain": [
       "                author  fake_articles  real_articles\n",
       "0              Pam Key           1932            268\n",
       "1                admin            193              0\n",
       "2        Jerome Hudson              0            166\n",
       "3     Charlie Spiering              0            141\n",
       "4         John Hayward              0            140\n",
       "5  Katherine Rodriguez              0            124\n",
       "6   Warner Todd Huston              0            122\n",
       "7         Ian Hanchett              0            119\n",
       "8       Breitbart News              0            118\n",
       "9      Daniel Nussbaum              0            112"
      ]
     },
     "execution_count": 8,
     "metadata": {},
     "output_type": "execute_result"
    }
   ],
   "source": [
    "news_dataset['author']\n",
    "n = 10\n",
    "authors = news_dataset['author'].value_counts()[:n].index.tolist()\n",
    "\n",
    "authorsTable = pd.DataFrame()\n",
    "real_articles = []\n",
    "fake_articles = []\n",
    "\n",
    "for author in authors:     \n",
    "    fake_articles.append(len(news_dataset.loc[(news_dataset['author'] == author) & (news_dataset['label'] == 1)]))\n",
    "    real_articles.append(len(news_dataset.loc[(news_dataset['author'] == author) & (news_dataset['label'] == 0)]))\n",
    "\n",
    "authorsTable[\"author\"] = authors\n",
    "authorsTable[\"fake_articles\"] = fake_articles\n",
    "authorsTable[\"real_articles\"] = real_articles\n",
    "\n",
    "authorsTable"
   ]
  },
  {
   "cell_type": "code",
   "execution_count": 9,
   "id": "1b79e301",
   "metadata": {},
   "outputs": [],
   "source": [
    "def confusionMatrix(prediction, modelName):\n",
    "    cm = metrics.confusion_matrix(test_labels, prediction)\n",
    "\n",
    "    plt.figure(figsize=(6, 6)) \n",
    "\n",
    "    plt.imshow(cm, interpolation='nearest', cmap=plt.cm.Greens)\n",
    "    plt.title('Confusion matrix ' + modelName)\n",
    "    plt.colorbar()\n",
    "\n",
    "    plt.xticks(np.arange(len(['Fake', 'Real'])), ['Fake', 'Real'], rotation=45)\n",
    "    plt.yticks(np.arange(len(['Fake', 'Real'])), ['Fake', 'Real'])\n",
    "\n",
    "    thresh = cm.max() / 2.\n",
    "    for i, j in itertools.product(range(cm.shape[0]), range(cm.shape[1])):\n",
    "        plt.text(j, i, cm[i, j],\n",
    "                 horizontalalignment=\"center\",\n",
    "                 color=\"white\" if cm[i, j] > thresh else \"black\")\n",
    "\n",
    "    plt.tight_layout()\n",
    "    plt.ylabel('True label')\n",
    "    plt.xlabel('Predicted label')\n",
    "    plt.show()"
   ]
  },
  {
   "cell_type": "markdown",
   "id": "c5ee2eeb",
   "metadata": {},
   "source": [
    "## Text Preprocessing\n",
    "### title + author + text"
   ]
  },
  {
   "cell_type": "code",
   "execution_count": 10,
   "id": "acaf9d10",
   "metadata": {},
   "outputs": [
    {
     "name": "stderr",
     "output_type": "stream",
     "text": [
      "[nltk_data] Downloading package stopwords to\n",
      "[nltk_data]     /Users/emabaranauskaite/nltk_data...\n",
      "[nltk_data]   Package stopwords is already up-to-date!\n",
      "[nltk_data] Downloading package wordnet to\n",
      "[nltk_data]     /Users/emabaranauskaite/nltk_data...\n",
      "[nltk_data]   Package wordnet is already up-to-date!\n"
     ]
    }
   ],
   "source": [
    "nltk.download('stopwords') \n",
    "nltk.download('wordnet')\n",
    "stop_words = stopwords.words('english')\n",
    "stop_words.extend(['from', 'subject', 're', 'edu', 'use'])"
   ]
  },
  {
   "cell_type": "code",
   "execution_count": 11,
   "id": "1673e6da",
   "metadata": {},
   "outputs": [],
   "source": [
    "lemmatizer = WordNetLemmatizer()\n",
    "\n",
    "def preprocess(text, lowercase, removeURL, removeStopwords, lemmatize):\n",
    "    if lowercase:\n",
    "        text = text.lower()\n",
    "                 \n",
    "    text = re.sub('\\[.*?\\]', '', text)\n",
    "    text = re.sub(\"\\\\W\",\" \",text) \n",
    "    \n",
    "    if removeURL:\n",
    "        text = re.sub('https?://\\S+|www\\.\\S+', '', text)\n",
    "        \n",
    "    text = re.sub('<.*?>+', '', text)\n",
    "    text = re.sub('[%s]' % re.escape(string.punctuation), '', text)\n",
    "    text = re.sub('\\n', '', text)\n",
    "    text = re.sub('\\w*\\d\\w*', '', text) \n",
    "    \n",
    "    text = text.split(' ') \n",
    "    \n",
    "    if removeStopwords:\n",
    "        filtered_sentence = []\n",
    "\n",
    "        for w in text:\n",
    "            if w.lower() not in stop_words and len(w) > 2:\n",
    "                filtered_sentence.append(w)\n",
    "\n",
    "        text = filtered_sentence\n",
    "        \n",
    "    if lemmatize:\n",
    "        text = ' '.join([lemmatizer.lemmatize(w) for w in text])\n",
    "    else:\n",
    "        text = ' '.join(text)\n",
    "     \n",
    "    return text"
   ]
  },
  {
   "cell_type": "code",
   "execution_count": 12,
   "id": "10b081e1",
   "metadata": {},
   "outputs": [],
   "source": [
    "news_dataset[\"title\"] = news_dataset[\"title\"].fillna('') \n",
    "news_dataset[\"article\"] = news_dataset[\"title\"] +  \" \" + news_dataset[\"author\"] +  \" \" + news_dataset[\"text\"]\n",
    "\n",
    "articles = []"
   ]
  },
  {
   "cell_type": "markdown",
   "id": "a5b82cda",
   "metadata": {},
   "source": [
    "### 1. Text Processing: removing punctuation"
   ]
  },
  {
   "cell_type": "code",
   "execution_count": 13,
   "id": "e7555b60",
   "metadata": {},
   "outputs": [],
   "source": [
    "processedText = []\n",
    "for i in range(0, len(news_dataset)):\n",
    "    text = preprocess(news_dataset.iloc[i][\"article\"], lowercase = False, removeURL = False, removeStopwords = False, lemmatize = False)\n",
    "    processedText.append(text)\n",
    "articles.append(processedText)"
   ]
  },
  {
   "cell_type": "markdown",
   "id": "33c62a86",
   "metadata": {},
   "source": [
    "### 2. Text Processing: removing punctuation + lemmatization"
   ]
  },
  {
   "cell_type": "code",
   "execution_count": 14,
   "id": "3f732464",
   "metadata": {},
   "outputs": [],
   "source": [
    "processedText = []\n",
    "for i in range(0, len(news_dataset)):\n",
    "    text = preprocess(news_dataset.iloc[i][\"article\"], lowercase = False, removeURL = False, removeStopwords = False, lemmatize = True)\n",
    "    processedText.append(text)\n",
    "articles.append(processedText)"
   ]
  },
  {
   "cell_type": "markdown",
   "id": "d7413340",
   "metadata": {},
   "source": [
    "### 3. Text Processing: removing punctuation + removing stop words"
   ]
  },
  {
   "cell_type": "code",
   "execution_count": 15,
   "id": "24a289e9",
   "metadata": {},
   "outputs": [],
   "source": [
    "processedText = []\n",
    "for i in range(0, len(news_dataset)):\n",
    "    text = preprocess(news_dataset.iloc[i][\"article\"], lowercase = False, removeURL = False, removeStopwords = True, lemmatize = False)\n",
    "    processedText.append(text)\n",
    "articles.append(processedText)"
   ]
  },
  {
   "cell_type": "markdown",
   "id": "3fbe08f3",
   "metadata": {},
   "source": [
    "### 4. Text Processing: removing punctuation + removing URL"
   ]
  },
  {
   "cell_type": "code",
   "execution_count": 16,
   "id": "a767376b",
   "metadata": {},
   "outputs": [],
   "source": [
    "processedText = []\n",
    "for i in range(0, len(news_dataset)):\n",
    "    text = preprocess(news_dataset.iloc[i][\"article\"], lowercase = False, removeURL = True, removeStopwords = False, lemmatize = False)\n",
    "    processedText.append(text)\n",
    "articles.append(processedText)"
   ]
  },
  {
   "cell_type": "markdown",
   "id": "7604ede3",
   "metadata": {},
   "source": [
    "### 5. Text Processing: removing punctuation + lowercase"
   ]
  },
  {
   "cell_type": "code",
   "execution_count": 17,
   "id": "af95c96b",
   "metadata": {},
   "outputs": [],
   "source": [
    "processedText = []\n",
    "for i in range(0, len(news_dataset)):\n",
    "    text = preprocess(news_dataset.iloc[i][\"article\"], lowercase = True, removeURL = False, removeStopwords = False, lemmatize = False)\n",
    "    processedText.append(text)\n",
    "articles.append(processedText)"
   ]
  },
  {
   "cell_type": "markdown",
   "id": "6b1a58b3",
   "metadata": {},
   "source": [
    "## Stochastic Gradient Descent"
   ]
  },
  {
   "cell_type": "code",
   "execution_count": 18,
   "id": "b2e3d5e5",
   "metadata": {},
   "outputs": [],
   "source": [
    "modelType = {}"
   ]
  },
  {
   "cell_type": "markdown",
   "id": "bdz9a428",
   "metadata": {},
   "source": [
    "### 1. Text Processing: removing punctuation"
   ]
  },
  {
   "cell_type": "code",
   "execution_count": 19,
   "id": "839d6348",
   "metadata": {},
   "outputs": [],
   "source": [
    "news_dataset[[\"title_avg_length\", \"Avg_length\"]] = news_dataset[[\"title_avg_length\", \"Avg_length\"]].fillna(0)\n",
    "word_count_avg_length = news_dataset[[\"title_avg_length\", \"Avg_length\"]].values\n",
    "article = articles[0]\n",
    "labels = news_dataset['label'].values\n",
    "\n",
    "# Splitting into train and test sets\n",
    "train_info, test_info, train_article, test_article, train_labels, test_labels = train_test_split(word_count_avg_length, article, labels, test_size=0.2)"
   ]
  },
  {
   "cell_type": "markdown",
   "id": "838131k6",
   "metadata": {},
   "source": [
    "### TF-IDF 1-gram"
   ]
  },
  {
   "cell_type": "code",
   "execution_count": 20,
   "id": "187061f8",
   "metadata": {},
   "outputs": [],
   "source": [
    "# TF-IDF creating numeric values for text\n",
    "vectorization = TfidfVectorizer(ngram_range=(1,1))\n",
    "train_article_1Gram = vectorization.fit_transform(train_article)\n",
    "test_article_1Gram = vectorization.transform(test_article)\n",
    "\n",
    "# Combining all features into one sparse matrix\n",
    "train_data_1Gram = sparse.hstack([train_article_1Gram, train_info])\n",
    "test_data_1Gram = sparse.hstack([test_article_1Gram, test_info])"
   ]
  },
  {
   "cell_type": "code",
   "execution_count": 21,
   "id": "a2ae2f9z",
   "metadata": {},
   "outputs": [
    {
     "name": "stdout",
     "output_type": "stream",
     "text": [
      "Accuracy with TF-IDF 1-gram: 0.9353365384615384\n"
     ]
    }
   ],
   "source": [
    "# Training\n",
    "SGD = SGDClassifier()\n",
    "SGD.fit(train_data_1Gram, train_labels)\n",
    "predictionSGD = SGD.predict(test_data_1Gram) \n",
    "\n",
    "# Classifier score - TF-IDF 1 grams\n",
    "score = SGD.score(test_data_1Gram, test_labels)\n",
    "modelType[\"1-gram\", \"Text Processing: removing punctuation\"] = [score, predictionSGD]\n",
    "\n",
    "print(\"Accuracy with TF-IDF 1-gram:\", score)"
   ]
  },
  {
   "cell_type": "markdown",
   "id": "d211ca78",
   "metadata": {},
   "source": [
    "### TF-IDF 2-gram"
   ]
  },
  {
   "cell_type": "code",
   "execution_count": 22,
   "id": "93881bbc",
   "metadata": {},
   "outputs": [],
   "source": [
    "# TF-IDF creating numeric values for text\n",
    "vectorization = TfidfVectorizer(ngram_range=(2,2))\n",
    "train_article_2Gram = vectorization.fit_transform(train_article)\n",
    "test_article_2Gram = vectorization.transform(test_article)\n",
    "\n",
    "# Combining all features into one sparse matrix\n",
    "train_data_2Gram = sparse.hstack([train_article_2Gram, train_info])\n",
    "test_data_2Gram = sparse.hstack([test_article_2Gram, test_info])"
   ]
  },
  {
   "cell_type": "code",
   "execution_count": 23,
   "id": "7ae85xf8",
   "metadata": {},
   "outputs": [
    {
     "name": "stdout",
     "output_type": "stream",
     "text": [
      "Accuracy with TF-IDF 2-gram: 0.9572115384615385\n"
     ]
    }
   ],
   "source": [
    "# Training\n",
    "SGD = SGDClassifier()\n",
    "SGD.fit(train_data_2Gram, train_labels)\n",
    "predictionSGD = SGD.predict(test_data_2Gram) \n",
    "\n",
    "# Classifier score - TF-IDF 2 grams\n",
    "score = SGD.score(test_data_2Gram, test_labels)\n",
    "modelType[\"2-grams\", \"Text Processing: removing punctuation\"] = [score, predictionSGD]\n",
    "\n",
    "print(\"Accuracy with TF-IDF 2-gram:\", SGD.score(test_data_2Gram, test_labels))"
   ]
  },
  {
   "cell_type": "markdown",
   "id": "5032e5ae",
   "metadata": {},
   "source": [
    "### TF-IDF 3-gram"
   ]
  },
  {
   "cell_type": "code",
   "execution_count": 24,
   "id": "31bfz772",
   "metadata": {},
   "outputs": [],
   "source": [
    "# TF-IDF creating numeric values for text\n",
    "vectorization = TfidfVectorizer(ngram_range=(3,3))\n",
    "train_article_3Gram = vectorization.fit_transform(train_article)\n",
    "test_article_3Gram = vectorization.transform(test_article)\n",
    "\n",
    "# Combining all features into one sparse matrix\n",
    "train_data_3Gram = sparse.hstack([train_article_3Gram, train_info])\n",
    "test_data_3Gram = sparse.hstack([test_article_3Gram, test_info])"
   ]
  },
  {
   "cell_type": "code",
   "execution_count": 25,
   "id": "41587cc1",
   "metadata": {},
   "outputs": [
    {
     "name": "stdout",
     "output_type": "stream",
     "text": [
      "Accuracy with TF-IDF 3-gram: 0.8353365384615384\n"
     ]
    }
   ],
   "source": [
    "# Training\n",
    "SGD = SGDClassifier()\n",
    "SGD.fit(train_data_3Gram, train_labels)\n",
    "predictionSGD = SGD.predict(test_data_3Gram) \n",
    "\n",
    "# Classifier score - TF-IDF 3 grams\n",
    "score = SGD.score(test_data_3Gram, test_labels)\n",
    "modelType[\"3-grams\", \"Text Processing: removing punctuation\"] = [score, predictionSGD]\n",
    "\n",
    "print(\"Accuracy with TF-IDF 3-gram:\", SGD.score(test_data_3Gram, test_labels))"
   ]
  },
  {
   "cell_type": "markdown",
   "id": "f80b2bef",
   "metadata": {},
   "source": [
    "### 2. Text Processing: removing punctuation + lemmatization"
   ]
  },
  {
   "cell_type": "code",
   "execution_count": 26,
   "id": "79d6fcf2",
   "metadata": {},
   "outputs": [],
   "source": [
    "news_dataset[[\"title_avg_length\", \"Avg_length\"]] = news_dataset[[\"title_avg_length\", \"Avg_length\"]].fillna(0)\n",
    "word_count_avg_length = news_dataset[[\"title_avg_length\", \"Avg_length\"]].values\n",
    "article = articles[1]\n",
    "labels = news_dataset['label'].values\n",
    "\n",
    "# Splitting into train and test sets\n",
    "train_info, test_info, train_article, test_article, train_labels, test_labels = train_test_split(word_count_avg_length, article, labels, test_size=0.2)"
   ]
  },
  {
   "cell_type": "markdown",
   "id": "dd3336ea",
   "metadata": {},
   "source": [
    "### TF-IDF 1-gram"
   ]
  },
  {
   "cell_type": "code",
   "execution_count": 27,
   "id": "6aaac4ab",
   "metadata": {},
   "outputs": [],
   "source": [
    "# TF-IDF creating numeric values for text\n",
    "vectorization = TfidfVectorizer(ngram_range=(1,1))\n",
    "train_article_1Gram = vectorization.fit_transform(train_article)\n",
    "test_article_1Gram = vectorization.transform(test_article)\n",
    "\n",
    "# Combining all features into one sparse matrix\n",
    "train_data_1Gram = sparse.hstack([train_article_1Gram, train_info])\n",
    "test_data_1Gram = sparse.hstack([test_article_1Gram, test_info])"
   ]
  },
  {
   "cell_type": "code",
   "execution_count": 28,
   "id": "7c567f25",
   "metadata": {},
   "outputs": [
    {
     "name": "stdout",
     "output_type": "stream",
     "text": [
      "Accuracy with TF-IDF 1-gram: 0.9435096153846154\n"
     ]
    }
   ],
   "source": [
    "# Training\n",
    "SGD = SGDClassifier()\n",
    "SGD.fit(train_data_1Gram, train_labels)\n",
    "predictionSGD = SGD.predict(test_data_1Gram) \n",
    "\n",
    "# Classifier score - TF-IDF 1 grams\n",
    "score = SGD.score(test_data_1Gram, test_labels)\n",
    "modelType[\"1-gram\", \"Text Processing: removing punctuation + lemmatization\"] = [score, predictionSGD]\n",
    "\n",
    "print(\"Accuracy with TF-IDF 1-gram:\", score)"
   ]
  },
  {
   "cell_type": "markdown",
   "id": "aa203d86",
   "metadata": {},
   "source": [
    "### TF-IDF 2-gram"
   ]
  },
  {
   "cell_type": "code",
   "execution_count": 29,
   "id": "6517ff27",
   "metadata": {},
   "outputs": [],
   "source": [
    "# TF-IDF creating numeric values for text\n",
    "vectorization = TfidfVectorizer(ngram_range=(2,2))\n",
    "train_article_2Gram = vectorization.fit_transform(train_article)\n",
    "test_article_2Gram = vectorization.transform(test_article)\n",
    "\n",
    "# Combining all features into one sparse matrix\n",
    "train_data_2Gram = sparse.hstack([train_article_2Gram, train_info])\n",
    "test_data_2Gram = sparse.hstack([test_article_2Gram, test_info])"
   ]
  },
  {
   "cell_type": "code",
   "execution_count": 30,
   "id": "75ec0fba",
   "metadata": {},
   "outputs": [
    {
     "name": "stdout",
     "output_type": "stream",
     "text": [
      "Accuracy with TF-IDF 2-gram: 0.9600961538461539\n"
     ]
    }
   ],
   "source": [
    "# Training\n",
    "SGD = SGDClassifier()\n",
    "SGD.fit(train_data_2Gram, train_labels)\n",
    "predictionSGD = SGD.predict(test_data_2Gram) \n",
    "\n",
    "# Classifier score - TF-IDF 2 grams\n",
    "score = SGD.score(test_data_2Gram, test_labels)\n",
    "modelType[\"2-grams\", \"Text Processing: removing punctuation\"] = [score, predictionSGD]\n",
    "\n",
    "print(\"Accuracy with TF-IDF 2-gram:\", SGD.score(test_data_2Gram, test_labels))"
   ]
  },
  {
   "cell_type": "markdown",
   "id": "beec8116",
   "metadata": {},
   "source": [
    "### TF-IDF 3-gram"
   ]
  },
  {
   "cell_type": "code",
   "execution_count": 31,
   "id": "9e072297",
   "metadata": {},
   "outputs": [],
   "source": [
    "# TF-IDF creating numeric values for text\n",
    "vectorization = TfidfVectorizer(ngram_range=(3,3))\n",
    "train_article_3Gram = vectorization.fit_transform(train_article)\n",
    "test_article_3Gram = vectorization.transform(test_article)\n",
    "\n",
    "# Combining all features into one sparse matrix\n",
    "train_data_3Gram = sparse.hstack([train_article_3Gram, train_info])\n",
    "test_data_3Gram = sparse.hstack([test_article_3Gram, test_info])"
   ]
  },
  {
   "cell_type": "code",
   "execution_count": 32,
   "id": "b6ab83bd",
   "metadata": {},
   "outputs": [
    {
     "name": "stdout",
     "output_type": "stream",
     "text": [
      "Accuracy with TF-IDF 3-gram: 0.628125\n"
     ]
    }
   ],
   "source": [
    "# Training\n",
    "SGD = SGDClassifier()\n",
    "SGD.fit(train_data_3Gram, train_labels)\n",
    "predictionSGD = SGD.predict(test_data_3Gram) \n",
    "\n",
    "# Classifier score - TF-IDF 3 grams\n",
    "score = SGD.score(test_data_3Gram, test_labels)\n",
    "modelType[\"3-grams\", \"Text Processing: removing punctuation\"] = [score, predictionSGD]\n",
    "\n",
    "print(\"Accuracy with TF-IDF 3-gram:\", SGD.score(test_data_3Gram, test_labels))"
   ]
  },
  {
   "cell_type": "markdown",
   "id": "8d58c8ef",
   "metadata": {},
   "source": [
    "### 3. Text Processing: removing punctuation + removing stop words"
   ]
  },
  {
   "cell_type": "code",
   "execution_count": 33,
   "id": "b824fb46",
   "metadata": {},
   "outputs": [],
   "source": [
    "news_dataset[[\"title_avg_length\", \"Avg_length\"]] = news_dataset[[\"title_avg_length\", \"Avg_length\"]].fillna(0)\n",
    "word_count_avg_length = news_dataset[[\"title_avg_length\", \"Avg_length\"]].values\n",
    "article = articles[2]\n",
    "labels = news_dataset['label'].values\n",
    "\n",
    "# Splitting into train and test sets\n",
    "train_info, test_info, train_article, test_article, train_labels, test_labels = train_test_split(word_count_avg_length, article, labels, test_size=0.2)"
   ]
  },
  {
   "cell_type": "markdown",
   "id": "c45dcbae",
   "metadata": {},
   "source": [
    "### TF-IDF 1-gram"
   ]
  },
  {
   "cell_type": "code",
   "execution_count": 34,
   "id": "973d0236",
   "metadata": {},
   "outputs": [],
   "source": [
    "# TF-IDF creating numeric values for text\n",
    "vectorization = TfidfVectorizer(ngram_range=(1,1))\n",
    "train_article_1Gram = vectorization.fit_transform(train_article)\n",
    "test_article_1Gram = vectorization.transform(test_article)\n",
    "\n",
    "# Combining all features into one sparse matrix\n",
    "train_data_1Gram = sparse.hstack([train_article_1Gram, train_info])\n",
    "test_data_1Gram = sparse.hstack([test_article_1Gram, test_info])"
   ]
  },
  {
   "cell_type": "code",
   "execution_count": 35,
   "id": "5e2f8835",
   "metadata": {},
   "outputs": [
    {
     "name": "stdout",
     "output_type": "stream",
     "text": [
      "Accuracy with TF-IDF 1-gram: 0.9682692307692308\n"
     ]
    }
   ],
   "source": [
    "# Training\n",
    "SGD = SGDClassifier()\n",
    "SGD.fit(train_data_1Gram, train_labels)\n",
    "predictionSGD = SGD.predict(test_data_1Gram) \n",
    "\n",
    "# Classifier score - TF-IDF 1 grams\n",
    "score = SGD.score(test_data_1Gram, test_labels)\n",
    "modelType[\"1-gram\", \"Text Processing: removing punctuation\"] = [score, predictionSGD]\n",
    "\n",
    "print(\"Accuracy with TF-IDF 1-gram:\", score)"
   ]
  },
  {
   "cell_type": "markdown",
   "id": "fbb5265c",
   "metadata": {},
   "source": [
    "### TF-IDF 2-gram"
   ]
  },
  {
   "cell_type": "code",
   "execution_count": 36,
   "id": "76ddb3d4",
   "metadata": {},
   "outputs": [],
   "source": [
    "# TF-IDF creating numeric values for text\n",
    "vectorization = TfidfVectorizer(ngram_range=(2,2))\n",
    "train_article_2Gram = vectorization.fit_transform(train_article)\n",
    "test_article_2Gram = vectorization.transform(test_article)\n",
    "\n",
    "# Combining all features into one sparse matrix\n",
    "train_data_2Gram = sparse.hstack([train_article_2Gram, train_info])\n",
    "test_data_2Gram = sparse.hstack([test_article_2Gram, test_info])"
   ]
  },
  {
   "cell_type": "code",
   "execution_count": 37,
   "id": "3ea2e8c6",
   "metadata": {},
   "outputs": [
    {
     "name": "stdout",
     "output_type": "stream",
     "text": [
      "Accuracy with TF-IDF 2-gram: 0.9514423076923076\n"
     ]
    }
   ],
   "source": [
    "# Training\n",
    "SGD = SGDClassifier()\n",
    "SGD.fit(train_data_2Gram, train_labels)\n",
    "predictionSGD = SGD.predict(test_data_2Gram) \n",
    "\n",
    "# Classifier score - TF-IDF 2 grams\n",
    "score = SGD.score(test_data_2Gram, test_labels)\n",
    "modelType[\"2-grams\", \"Text Processing: removing punctuation + removing stop words\"] = [score, predictionSGD]\n",
    "\n",
    "print(\"Accuracy with TF-IDF 2-gram:\", SGD.score(test_data_2Gram, test_labels))"
   ]
  },
  {
   "cell_type": "markdown",
   "id": "5130e5ae",
   "metadata": {},
   "source": [
    "### TF-IDF 3-gram"
   ]
  },
  {
   "cell_type": "code",
   "execution_count": 38,
   "id": "31bf877c",
   "metadata": {},
   "outputs": [],
   "source": [
    "# TF-IDF creating numeric values for text\n",
    "vectorization = TfidfVectorizer(ngram_range=(3,3))\n",
    "train_article_3Gram = vectorization.fit_transform(train_article)\n",
    "test_article_3Gram = vectorization.transform(test_article)\n",
    "\n",
    "# Combining all features into one sparse matrix\n",
    "train_data_3Gram = sparse.hstack([train_article_3Gram, train_info])\n",
    "test_data_3Gram = sparse.hstack([test_article_3Gram, test_info])"
   ]
  },
  {
   "cell_type": "code",
   "execution_count": 39,
   "id": "41589cce",
   "metadata": {},
   "outputs": [
    {
     "name": "stdout",
     "output_type": "stream",
     "text": [
      "Accuracy with TF-IDF 3-gram: 0.9069711538461539\n"
     ]
    }
   ],
   "source": [
    "# Training\n",
    "SGD = SGDClassifier()\n",
    "SGD.fit(train_data_3Gram, train_labels)\n",
    "predictionSGD = SGD.predict(test_data_3Gram) \n",
    "\n",
    "# Classifier score - TF-IDF 3 grams\n",
    "score = SGD.score(test_data_3Gram, test_labels)\n",
    "modelType[\"3-grams\", \"Text Processing: removing punctuation\"] = [score, predictionSGD]\n",
    "\n",
    "print(\"Accuracy with TF-IDF 3-gram:\", SGD.score(test_data_3Gram, test_labels))"
   ]
  },
  {
   "cell_type": "markdown",
   "id": "04d34ba0",
   "metadata": {},
   "source": [
    "### 4. Text Processing: removing punctuation + removing URL"
   ]
  },
  {
   "cell_type": "code",
   "execution_count": 40,
   "id": "86c54fc2",
   "metadata": {},
   "outputs": [],
   "source": [
    "news_dataset[[\"title_avg_length\", \"Avg_length\"]] = news_dataset[[\"title_avg_length\", \"Avg_length\"]].fillna(0)\n",
    "word_count_avg_length = news_dataset[[\"title_avg_length\", \"Avg_length\"]].values\n",
    "article = articles[3]\n",
    "labels = news_dataset['label'].values\n",
    "\n",
    "# Splitting into train and test sets\n",
    "train_info, test_info, train_article, test_article, train_labels, test_labels = train_test_split(word_count_avg_length, article, labels, test_size=0.2)"
   ]
  },
  {
   "cell_type": "markdown",
   "id": "83813136",
   "metadata": {},
   "source": [
    "### TF-IDF 1-gram"
   ]
  },
  {
   "cell_type": "code",
   "execution_count": 41,
   "id": "187961f0",
   "metadata": {},
   "outputs": [],
   "source": [
    "# TF-IDF creating numeric values for text\n",
    "vectorization = TfidfVectorizer(ngram_range=(1,1))\n",
    "train_article_1Gram = vectorization.fit_transform(train_article)\n",
    "test_article_1Gram = vectorization.transform(test_article)\n",
    "\n",
    "# Combining all features into one sparse matrix\n",
    "train_data_1Gram = sparse.hstack([train_article_1Gram, train_info])\n",
    "test_data_1Gram = sparse.hstack([test_article_1Gram, test_info])"
   ]
  },
  {
   "cell_type": "code",
   "execution_count": 42,
   "id": "a2ae2f9m",
   "metadata": {},
   "outputs": [
    {
     "name": "stdout",
     "output_type": "stream",
     "text": [
      "Accuracy with TF-IDF 1-gram: 0.9432692307692307\n"
     ]
    }
   ],
   "source": [
    "# Training\n",
    "SGD = SGDClassifier()\n",
    "SGD.fit(train_data_1Gram, train_labels)\n",
    "predictionSGD = SGD.predict(test_data_1Gram) \n",
    "\n",
    "# Classifier score - TF-IDF 1 grams\n",
    "score = SGD.score(test_data_1Gram, test_labels)\n",
    "modelType[\"1-gram\", \"Text Processing: removing punctuation\"] = [score, predictionSGD]\n",
    "\n",
    "print(\"Accuracy with TF-IDF 1-gram:\", score)"
   ]
  },
  {
   "cell_type": "markdown",
   "id": "d211cx78",
   "metadata": {},
   "source": [
    "### TF-IDF 2-gram"
   ]
  },
  {
   "cell_type": "code",
   "execution_count": 43,
   "id": "93826bbc",
   "metadata": {},
   "outputs": [],
   "source": [
    "# TF-IDF creating numeric values for text\n",
    "vectorization = TfidfVectorizer(ngram_range=(2,2))\n",
    "train_article_2Gram = vectorization.fit_transform(train_article)\n",
    "test_article_2Gram = vectorization.transform(test_article)\n",
    "\n",
    "# Combining all features into one sparse matrix\n",
    "train_data_2Gram = sparse.hstack([train_article_2Gram, train_info])\n",
    "test_data_2Gram = sparse.hstack([test_article_2Gram, test_info])"
   ]
  },
  {
   "cell_type": "code",
   "execution_count": 44,
   "id": "7az857f8",
   "metadata": {},
   "outputs": [
    {
     "name": "stdout",
     "output_type": "stream",
     "text": [
      "Accuracy with TF-IDF 2-gram: 0.9586538461538462\n"
     ]
    }
   ],
   "source": [
    "# Training\n",
    "SGD = SGDClassifier()\n",
    "SGD.fit(train_data_2Gram, train_labels)\n",
    "predictionSGD = SGD.predict(test_data_2Gram) \n",
    "\n",
    "# Classifier score - TF-IDF 2 grams\n",
    "score = SGD.score(test_data_2Gram, test_labels)\n",
    "modelType[\"2-grams\", \"Text Processing: removing punctuation + removing URL\"] = [score, predictionSGD]\n",
    "\n",
    "print(\"Accuracy with TF-IDF 2-gram:\", SGD.score(test_data_2Gram, test_labels))"
   ]
  },
  {
   "cell_type": "markdown",
   "id": "5030e5az",
   "metadata": {},
   "source": [
    "### TF-IDF 3-gram"
   ]
  },
  {
   "cell_type": "code",
   "execution_count": 45,
   "id": "31bf8972",
   "metadata": {},
   "outputs": [],
   "source": [
    "# TF-IDF creating numeric values for text\n",
    "vectorization = TfidfVectorizer(ngram_range=(3,3))\n",
    "train_article_3Gram = vectorization.fit_transform(train_article)\n",
    "test_article_3Gram = vectorization.transform(test_article)\n",
    "\n",
    "# Combining all features into one sparse matrix\n",
    "train_data_3Gram = sparse.hstack([train_article_3Gram, train_info])\n",
    "test_data_3Gram = sparse.hstack([test_article_3Gram, test_info])"
   ]
  },
  {
   "cell_type": "code",
   "execution_count": 46,
   "id": "41587ccz",
   "metadata": {},
   "outputs": [
    {
     "name": "stdout",
     "output_type": "stream",
     "text": [
      "Accuracy with TF-IDF 3-gram: 0.9221153846153847\n"
     ]
    }
   ],
   "source": [
    "# Training\n",
    "SGD = SGDClassifier()\n",
    "SGD.fit(train_data_3Gram, train_labels)\n",
    "predictionSGD = SGD.predict(test_data_3Gram) \n",
    "\n",
    "# Classifier score - TF-IDF 3 grams\n",
    "score = SGD.score(test_data_3Gram, test_labels)\n",
    "modelType[\"3-grams\", \"Text Processing: removing punctuation\"] = [score, predictionSGD]\n",
    "\n",
    "print(\"Accuracy with TF-IDF 3-gram:\", SGD.score(test_data_3Gram, test_labels))"
   ]
  },
  {
   "cell_type": "markdown",
   "id": "bd29a4x8",
   "metadata": {},
   "source": [
    "### 5. Text Processing: removing punctuation + lowercase"
   ]
  },
  {
   "cell_type": "code",
   "execution_count": 47,
   "id": "839d63x8",
   "metadata": {},
   "outputs": [],
   "source": [
    "news_dataset[[\"title_avg_length\", \"Avg_length\"]] = news_dataset[[\"title_avg_length\", \"Avg_length\"]].fillna(0)\n",
    "word_count_avg_length = news_dataset[[\"title_avg_length\", \"Avg_length\"]].values\n",
    "article = articles[4]\n",
    "labels = news_dataset['label'].values\n",
    "\n",
    "# Splitting into train and test sets\n",
    "train_info, test_info, train_article, test_article, train_labels, test_labels = train_test_split(word_count_avg_length, article, labels, test_size=0.2)"
   ]
  },
  {
   "cell_type": "markdown",
   "id": "8381313z",
   "metadata": {},
   "source": [
    "### TF-IDF 1-gram"
   ]
  },
  {
   "cell_type": "code",
   "execution_count": 48,
   "id": "187961f8",
   "metadata": {},
   "outputs": [],
   "source": [
    "# TF-IDF creating numeric values for text\n",
    "vectorization = TfidfVectorizer(ngram_range=(1,1))\n",
    "train_article_1Gram = vectorization.fit_transform(train_article)\n",
    "test_article_1Gram = vectorization.transform(test_article)\n",
    "\n",
    "# Combining all features into one sparse matrix\n",
    "train_data_1Gram = sparse.hstack([train_article_1Gram, train_info])\n",
    "test_data_1Gram = sparse.hstack([test_article_1Gram, test_info])"
   ]
  },
  {
   "cell_type": "code",
   "execution_count": 49,
   "id": "a2ae2f22",
   "metadata": {},
   "outputs": [
    {
     "name": "stdout",
     "output_type": "stream",
     "text": [
      "Accuracy with TF-IDF 1-gram: 0.9612980769230769\n"
     ]
    }
   ],
   "source": [
    "# Training\n",
    "SGD = SGDClassifier()\n",
    "SGD.fit(train_data_1Gram, train_labels)\n",
    "predictionSGD = SGD.predict(test_data_1Gram) \n",
    "\n",
    "# Classifier score - TF-IDF 1 grams\n",
    "score = SGD.score(test_data_1Gram, test_labels)\n",
    "modelType[\"1-gram\", \"Text Processing: removing punctuation\"] = [score, predictionSGD]\n",
    "\n",
    "print(\"Accuracy with TF-IDF 1-gram:\", score)"
   ]
  },
  {
   "cell_type": "markdown",
   "id": "d211ca7x",
   "metadata": {},
   "source": [
    "### TF-IDF 2-gram"
   ]
  },
  {
   "cell_type": "code",
   "execution_count": 50,
   "id": "93889bbc",
   "metadata": {},
   "outputs": [],
   "source": [
    "# TF-IDF creating numeric values for text\n",
    "vectorization = TfidfVectorizer(ngram_range=(2,2))\n",
    "train_article_2Gram = vectorization.fit_transform(train_article)\n",
    "test_article_2Gram = vectorization.transform(test_article)\n",
    "\n",
    "# Combining all features into one sparse matrix\n",
    "train_data_2Gram = sparse.hstack([train_article_2Gram, train_info])\n",
    "test_data_2Gram = sparse.hstack([test_article_2Gram, test_info])"
   ]
  },
  {
   "cell_type": "code",
   "execution_count": 51,
   "id": "7ae857m8",
   "metadata": {},
   "outputs": [
    {
     "name": "stdout",
     "output_type": "stream",
     "text": [
      "Accuracy with TF-IDF 2-gram: 0.9555288461538461\n"
     ]
    }
   ],
   "source": [
    "# Training\n",
    "SGD = SGDClassifier()\n",
    "SGD.fit(train_data_2Gram, train_labels)\n",
    "predictionSGD = SGD.predict(test_data_2Gram) \n",
    "\n",
    "# Classifier score - TF-IDF 2 grams\n",
    "score = SGD.score(test_data_2Gram, test_labels)\n",
    "modelType[\"2-grams\", \"Text Processing: removing punctuation + lowercase\"] = [score, predictionSGD]\n",
    "\n",
    "print(\"Accuracy with TF-IDF 2-gram:\", SGD.score(test_data_2Gram, test_labels))"
   ]
  },
  {
   "cell_type": "markdown",
   "id": "5030e5ak",
   "metadata": {},
   "source": [
    "### TF-IDF 3-gram"
   ]
  },
  {
   "cell_type": "code",
   "execution_count": 52,
   "id": "31bf8773",
   "metadata": {},
   "outputs": [],
   "source": [
    "# TF-IDF creating numeric values for text\n",
    "vectorization = TfidfVectorizer(ngram_range=(3,3))\n",
    "train_article_3Gram = vectorization.fit_transform(train_article)\n",
    "test_article_3Gram = vectorization.transform(test_article)\n",
    "\n",
    "# Combining all features into one sparse matrix\n",
    "train_data_3Gram = sparse.hstack([train_article_3Gram, train_info])\n",
    "test_data_3Gram = sparse.hstack([test_article_3Gram, test_info])"
   ]
  },
  {
   "cell_type": "code",
   "execution_count": 53,
   "id": "41587cce",
   "metadata": {},
   "outputs": [
    {
     "name": "stdout",
     "output_type": "stream",
     "text": [
      "Accuracy with TF-IDF 3-gram: 0.9415865384615385\n"
     ]
    }
   ],
   "source": [
    "# Training\n",
    "SGD = SGDClassifier()\n",
    "SGD.fit(train_data_3Gram, train_labels)\n",
    "predictionSGD = SGD.predict(test_data_3Gram) \n",
    "\n",
    "# Classifier score - TF-IDF 3 grams\n",
    "score = SGD.score(test_data_3Gram, test_labels)\n",
    "modelType[\"3-grams\", \"Text Processing: removing punctuation\"] = [score, predictionSGD]\n",
    "\n",
    "print(\"Accuracy with TF-IDF 3-gram:\", SGD.score(test_data_3Gram, test_labels))"
   ]
  },
  {
   "cell_type": "markdown",
   "id": "bd29a428",
   "metadata": {},
   "source": [
    "### 6. No text processing"
   ]
  },
  {
   "cell_type": "code",
   "execution_count": 54,
   "id": "809d6348",
   "metadata": {},
   "outputs": [],
   "source": [
    "news_dataset[[\"title_avg_length\", \"Avg_length\"]] = news_dataset[[\"title_avg_length\", \"Avg_length\"]].fillna(0)\n",
    "word_count_avg_length = news_dataset[[\"title_avg_length\", \"Avg_length\"]].values\n",
    "article = news_dataset[\"article\"].values\n",
    "labels = news_dataset['label'].values\n",
    "\n",
    "# Splitting into train and test sets\n",
    "train_info, test_info, train_article, test_article, train_labels, test_labels = train_test_split(word_count_avg_length, article, labels, test_size=0.2)"
   ]
  },
  {
   "cell_type": "markdown",
   "id": "838d3136",
   "metadata": {},
   "source": [
    "### TF-IDF 1-gram"
   ]
  },
  {
   "cell_type": "code",
   "execution_count": 55,
   "id": "187960f8",
   "metadata": {},
   "outputs": [],
   "source": [
    "# TF-IDF creating numeric values for text\n",
    "vectorization = TfidfVectorizer(ngram_range=(1,1))\n",
    "train_article_1Gram = vectorization.fit_transform(train_article)\n",
    "test_article_1Gram = vectorization.transform(test_article)\n",
    "\n",
    "# Combining all features into one sparse matrix\n",
    "train_data_1Gram = sparse.hstack([train_article_1Gram, train_info])\n",
    "test_data_1Gram = sparse.hstack([test_article_1Gram, test_info])"
   ]
  },
  {
   "cell_type": "code",
   "execution_count": 56,
   "id": "a2ae2f92",
   "metadata": {},
   "outputs": [
    {
     "name": "stdout",
     "output_type": "stream",
     "text": [
      "Accuracy with TF-IDF 1-gram: 0.9634615384615385\n"
     ]
    }
   ],
   "source": [
    "# Training\n",
    "SGD = SGDClassifier()\n",
    "SGD.fit(train_data_1Gram, train_labels)\n",
    "predictionSGD = SGD.predict(test_data_1Gram) \n",
    "\n",
    "# Classifier score - TF-IDF 1 grams\n",
    "score = SGD.score(test_data_1Gram, test_labels)\n",
    "modelType[\"1-gram\", \"No Text Processing\"] = [score, predictionSGD]\n",
    "\n",
    "print(\"Accuracy with TF-IDF 1-gram:\", score)"
   ]
  },
  {
   "cell_type": "markdown",
   "id": "d311ca78",
   "metadata": {},
   "source": [
    "### TF-IDF 2-gram"
   ]
  },
  {
   "cell_type": "code",
   "execution_count": 57,
   "id": "93886bbc",
   "metadata": {},
   "outputs": [],
   "source": [
    "# TF-IDF creating numeric values for text\n",
    "vectorization = TfidfVectorizer(ngram_range=(2,2))\n",
    "train_article_2Gram = vectorization.fit_transform(train_article)\n",
    "test_article_2Gram = vectorization.transform(test_article)\n",
    "\n",
    "# Combining all features into one sparse matrix\n",
    "train_data_2Gram = sparse.hstack([train_article_2Gram, train_info])\n",
    "test_data_2Gram = sparse.hstack([test_article_2Gram, test_info])"
   ]
  },
  {
   "cell_type": "code",
   "execution_count": 58,
   "id": "7ae857f8",
   "metadata": {},
   "outputs": [
    {
     "name": "stdout",
     "output_type": "stream",
     "text": [
      "Accuracy with TF-IDF 2-gram: 0.9536057692307692\n"
     ]
    }
   ],
   "source": [
    "# Training\n",
    "SGD = SGDClassifier()\n",
    "SGD.fit(train_data_2Gram, train_labels)\n",
    "predictionSGD = SGD.predict(test_data_2Gram) \n",
    "\n",
    "# Classifier score - TF-IDF 2 grams\n",
    "score = SGD.score(test_data_2Gram, test_labels)\n",
    "modelType[\"2-grams\", \"Text Processing: removing punctuation\"] = [score, predictionSGD]\n",
    "\n",
    "print(\"Accuracy with TF-IDF 2-gram:\", SGD.score(test_data_2Gram, test_labels))"
   ]
  },
  {
   "cell_type": "markdown",
   "id": "5030e5ae",
   "metadata": {},
   "source": [
    "### TF-IDF 3-gram"
   ]
  },
  {
   "cell_type": "code",
   "execution_count": 59,
   "id": "31bf8772",
   "metadata": {},
   "outputs": [],
   "source": [
    "# TF-IDF creating numeric values for text\n",
    "vectorization = TfidfVectorizer(ngram_range=(3,3))\n",
    "train_article_3Gram = vectorization.fit_transform(train_article)\n",
    "test_article_3Gram = vectorization.transform(test_article)\n",
    "\n",
    "# Combining all features into one sparse matrix\n",
    "train_data_3Gram = sparse.hstack([train_article_3Gram, train_info])\n",
    "test_data_3Gram = sparse.hstack([test_article_3Gram, test_info])"
   ]
  },
  {
   "cell_type": "code",
   "execution_count": 60,
   "id": "41587zce",
   "metadata": {},
   "outputs": [
    {
     "name": "stdout",
     "output_type": "stream",
     "text": [
      "Accuracy with TF-IDF 3-gram: 0.9223557692307692\n"
     ]
    }
   ],
   "source": [
    "# Training\n",
    "SGD = SGDClassifier()\n",
    "SGD.fit(train_data_3Gram, train_labels)\n",
    "predictionSGD = SGD.predict(test_data_3Gram) \n",
    "\n",
    "# Classifier score - TF-IDF 3 grams\n",
    "score = SGD.score(test_data_3Gram, test_labels)\n",
    "modelType[\"3-grams\", \"Text Processing: removing punctuation\"] = [score, predictionSGD]\n",
    "\n",
    "print(\"Accuracy with TF-IDF 3-gram:\", SGD.score(test_data_3Gram, test_labels))"
   ]
  },
  {
   "cell_type": "markdown",
   "id": "0364a5b0",
   "metadata": {},
   "source": [
    "## Best Result"
   ]
  },
  {
   "cell_type": "code",
   "execution_count": 61,
   "id": "d1877008",
   "metadata": {},
   "outputs": [
    {
     "name": "stdout",
     "output_type": "stream",
     "text": [
      "The highest accuracy scored a stochastic gradient descent model with No Text Processing and TF-IDF 1-gram value\n",
      "The accuracy is: [0.9634615384615385, array([1, 1, 0, ..., 0, 1, 1])]\n"
     ]
    }
   ],
   "source": [
    "bestSGDmodel = max(modelType, key=modelType.get)\n",
    "print(\"The highest accuracy scored a stochastic gradient descent model with\", bestSGDmodel[1], \"and TF-IDF\", bestSGDmodel[0], \"value\")\n",
    "print(\"The accuracy is:\", modelType[bestSGDmodel])"
   ]
  },
  {
   "cell_type": "code",
   "execution_count": 62,
   "id": "06f1fa4c",
   "metadata": {},
   "outputs": [
    {
     "data": {
      "image/png": "[encoded data removed]",
      "text/plain": [
       "<Figure size 432x432 with 2 Axes>"
      ]
     },
     "metadata": {
      "needs_background": "light"
     },
     "output_type": "display_data"
    }
   ],
   "source": [
    "prediction = modelType[bestSGDmodel][1]\n",
    "modelName = \"SDG model with \" + bestSGDmodel[1]\n",
    "\n",
    "confusionMatrix(prediction, modelName)"
   ]
  }
 ],
 "metadata": {
  "kernelspec": {
   "display_name": "Python 3 (ipykernel)",
   "language": "python",
   "name": "python3"
  },
  "language_info": {
   "codemirror_mode": {
    "name": "ipython",
    "version": 3
   },
   "file_extension": ".py",
   "mimetype": "text/x-python",
   "name": "python",
   "nbconvert_exporter": "python",
   "pygments_lexer": "ipython3",
   "version": "3.9.7"
  }
 },
 "nbformat": 4,
 "nbformat_minor": 5
}
